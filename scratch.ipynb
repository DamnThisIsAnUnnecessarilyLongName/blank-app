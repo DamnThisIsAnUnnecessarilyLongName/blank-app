{
 "cells": [
  {
   "cell_type": "code",
   "execution_count": 2,
   "metadata": {},
   "outputs": [],
   "source": [
    "import pandas as pd\n",
    "import numpy as np\n",
    "import polars as pl\n",
    "import fastexcel"
   ]
  },
  {
   "cell_type": "code",
   "execution_count": 3,
   "metadata": {},
   "outputs": [],
   "source": [
    "# Read in file\n",
    "df = pl.read_excel(\"data/Population estimates and components by SA2.xlsx\", \n",
    "                   sheet_name=\"Table 2\",\n",
    "                   read_options={\n",
    "                    \"skip_rows\": 6,\n",
    "                    }\n",
    "                   )\n",
    "# Column names change\n",
    "df.columns = [\"GCCSA code\",\t\"GCCSA name\", \"SA4 code\", \"SA4 name\", \"SA3 code\",\n",
    "              \"SA3 name\", \"SA2 code\", \"SA2 name\",\"2023 Pop\", \"2024 Pop\",\n",
    "              \"2023-24 Change\", \"2023-24 Change %\", \"Natural Increase\", \"Net internal migration\",\n",
    "              \"Net oveseas migration\",\"Area\",\"Population Density\"]"
   ]
  },
  {
   "cell_type": "code",
   "execution_count": 20,
   "metadata": {},
   "outputs": [],
   "source": [
    "pl.Config.set_tbl_rows(30)\n",
    "df_stg = (\n",
    "    df\n",
    "        .select(\"SA3 name\",\"SA3 code\",\"SA2 name\", \"SA2 code\", \"2024 Pop\", \"2023-24 Change\", \"Area\")\n",
    "        .head(df.height - 2)\n",
    "        .with_columns(\n",
    "            pl.when(pl.col(\"SA2 name\").str.contains(\"-\"))\n",
    "            .then(\n",
    "                pl.col(\"SA2 name\")\n",
    "                    .str.extract(r\"^(.*?)-\", 1)\n",
    "                    .str.strip_chars(\" \")  # remove leading/trailing spaces\n",
    "                )\n",
    "            .otherwise(pl.col(\"SA2 name\"))\n",
    "            .alias(\"Suburb\")\n",
    "        )\n",
    "        .with_columns(\n",
    "            pl.when(pl.col(\"SA3 name\").str.contains(\"-\"))\n",
    "            .then(\n",
    "                pl.col(\"SA3 name\")\n",
    "                    .str.extract(r\"^(.*?)-\", 1)\n",
    "                    .str.strip_chars(\" \")  # remove leading/trailing spaces\n",
    "                )\n",
    "            .otherwise(pl.col(\"SA3 name\"))\n",
    "            .alias(\"Council\")\n",
    "        )\n",
    "        .select(\"Council\",\"Suburb\",\"2024 Pop\",\"2023-24 Change\",\"Area\")\n",
    "\n",
    "        .group_by([\"Council\",\"Suburb\"])\n",
    "        .agg(\n",
    "            pl.sum(\"2024 Pop\").alias(\"2024 Pop\"),\n",
    "            pl.sum(\"2023-24 Change\").alias(\"2023-24 Change\"),\n",
    "            pl.sum(\"Area\").alias(\"Suburb Area km^2\")\n",
    "        )\n",
    "        # Add average pop\n",
    "        .with_columns(\n",
    "            pl.col(\"2024 Pop\")\n",
    "            .mean()\n",
    "            .over(\"Council\")\n",
    "            .round(0).cast(pl.Int64) \n",
    "            .alias(\"avg_suburb_pop_in_Council\")\n",
    "        )\n",
    "        # Add average area\n",
    "        .with_columns(\n",
    "            pl.col(\"Suburb Area km^2\")\n",
    "            .mean()\n",
    "            .over(\"Council\")\n",
    "            .round(0).cast(pl.Int64) \n",
    "            .alias(\"avg_suburb_area_in_Council\")\n",
    "        )\n",
    "        .sort(\"Council\", descending=False)\n",
    "\n",
    "        .select(\"Council\",\"Suburb\",\"2024 Pop\",\"avg_suburb_pop_in_Council\",\n",
    "                \"Suburb Area km^2\",\"avg_suburb_area_in_Council\",\n",
    "                \"2023-24 Change\")\n",
    "        \n",
    ")"
   ]
  },
  {
   "cell_type": "code",
   "execution_count": 29,
   "metadata": {},
   "outputs": [
    {
     "data": {
      "text/plain": [
       "18831"
      ]
     },
     "execution_count": 29,
     "metadata": {},
     "output_type": "execute_result"
    }
   ],
   "source": [
    "int(df_stg.filter(pl.col(\"Council\") == 'Manningham').select(pl.col('2024 Pop').mean()).item())"
   ]
  },
  {
   "cell_type": "code",
   "execution_count": 21,
   "metadata": {},
   "outputs": [
    {
     "data": {
      "text/html": [
       "<div><style>\n",
       ".dataframe > thead > tr,\n",
       ".dataframe > tbody > tr {\n",
       "  text-align: right;\n",
       "  white-space: pre-wrap;\n",
       "}\n",
       "</style>\n",
       "<small>shape: (451, 7)</small><table border=\"1\" class=\"dataframe\"><thead><tr><th>Council</th><th>Suburb</th><th>2024 Pop</th><th>avg_suburb_pop_in_Council</th><th>Suburb Area km^2</th><th>avg_suburb_area_in_Council</th><th>2023-24 Change</th></tr><tr><td>str</td><td>str</td><td>i64</td><td>i64</td><td>f64</td><td>i64</td><td>i64</td></tr></thead><tbody><tr><td>&quot;Ballarat&quot;</td><td>&quot;Sebastopol&quot;</td><td>12839</td><td>12356</td><td>10.6</td><td>45</td><td>-44</td></tr><tr><td>&quot;Ballarat&quot;</td><td>&quot;Smythes Creek&quot;</td><td>4278</td><td>12356</td><td>104.7</td><td>45</td><td>11</td></tr><tr><td>&quot;Ballarat&quot;</td><td>&quot;Buninyong&quot;</td><td>7358</td><td>12356</td><td>51.6</td><td>45</td><td>35</td></tr><tr><td>&quot;Ballarat&quot;</td><td>&quot;Delacombe&quot;</td><td>14271</td><td>12356</td><td>34.2</td><td>45</td><td>1406</td></tr><tr><td>&quot;Ballarat&quot;</td><td>&quot;Ballarat&quot;</td><td>11773</td><td>12356</td><td>12.4</td><td>45</td><td>-38</td></tr><tr><td>&quot;Ballarat&quot;</td><td>&quot;Alfredton&quot;</td><td>20130</td><td>12356</td><td>52.7</td><td>45</td><td>1135</td></tr><tr><td>&quot;Ballarat&quot;</td><td>&quot;Canadian&quot;</td><td>12457</td><td>12356</td><td>22.3</td><td>45</td><td>24</td></tr><tr><td>&quot;Ballarat&quot;</td><td>&quot;Wendouree&quot;</td><td>15570</td><td>12356</td><td>67.6</td><td>45</td><td>140</td></tr><tr><td>&quot;Ballarat&quot;</td><td>&quot;Ballarat North&quot;</td><td>15169</td><td>12356</td><td>73.1</td><td>45</td><td>156</td></tr><tr><td>&quot;Ballarat&quot;</td><td>&quot;Ballarat East&quot;</td><td>9717</td><td>12356</td><td>19.2</td><td>45</td><td>88</td></tr><tr><td>&quot;Banyule&quot;</td><td>&quot;Bundoora&quot;</td><td>10240</td><td>14659</td><td>4.1</td><td>7</td><td>214</td></tr><tr><td>&quot;Banyule&quot;</td><td>&quot;Greensborough&quot;</td><td>21338</td><td>14659</td><td>10.1</td><td>7</td><td>359</td></tr><tr><td>&quot;Banyule&quot;</td><td>&quot;Viewbank&quot;</td><td>19009</td><td>14659</td><td>10.2</td><td>7</td><td>-31</td></tr><tr><td>&quot;Banyule&quot;</td><td>&quot;Heidelberg West&quot;</td><td>16703</td><td>14659</td><td>6.7</td><td>7</td><td>857</td></tr><tr><td>&quot;Banyule&quot;</td><td>&quot;Heidelberg&quot;</td><td>16915</td><td>14659</td><td>6.4</td><td>7</td><td>315</td></tr><tr><td>&hellip;</td><td>&hellip;</td><td>&hellip;</td><td>&hellip;</td><td>&hellip;</td><td>&hellip;</td><td>&hellip;</td></tr><tr><td>&quot;Yarra&quot;</td><td>&quot;Carlton North&quot;</td><td>8747</td><td>12717</td><td>2.3</td><td>3</td><td>210</td></tr><tr><td>&quot;Yarra&quot;</td><td>&quot;Richmond&quot;</td><td>15319</td><td>12717</td><td>1.9</td><td>3</td><td>428</td></tr><tr><td>&quot;Yarra Ranges&quot;</td><td>&quot;Chirnside Park&quot;</td><td>12506</td><td>12255</td><td>22.2</td><td>124</td><td>117</td></tr><tr><td>&quot;Yarra Ranges&quot;</td><td>&quot;Monbulk&quot;</td><td>5834</td><td>12255</td><td>68.6</td><td>124</td><td>27</td></tr><tr><td>&quot;Yarra Ranges&quot;</td><td>&quot;Yarra Valley&quot;</td><td>17059</td><td>12255</td><td>729.8</td><td>124</td><td>99</td></tr><tr><td>&quot;Yarra Ranges&quot;</td><td>&quot;Upwey&quot;</td><td>9862</td><td>12255</td><td>8.9</td><td>124</td><td>87</td></tr><tr><td>&quot;Yarra Ranges&quot;</td><td>&quot;Lilydale&quot;</td><td>20533</td><td>12255</td><td>109.4</td><td>124</td><td>494</td></tr><tr><td>&quot;Yarra Ranges&quot;</td><td>&quot;Mount Evelyn&quot;</td><td>10032</td><td>12255</td><td>17.0</td><td>124</td><td>114</td></tr><tr><td>&quot;Yarra Ranges&quot;</td><td>&quot;Mooroolbark&quot;</td><td>24258</td><td>12255</td><td>12.5</td><td>124</td><td>276</td></tr><tr><td>&quot;Yarra Ranges&quot;</td><td>&quot;Mount Dandenong&quot;</td><td>9609</td><td>12255</td><td>81.9</td><td>124</td><td>-24</td></tr><tr><td>&quot;Yarra Ranges&quot;</td><td>&quot;Montrose&quot;</td><td>6921</td><td>12255</td><td>10.5</td><td>124</td><td>-7</td></tr><tr><td>&quot;Yarra Ranges&quot;</td><td>&quot;Belgrave&quot;</td><td>9991</td><td>12255</td><td>55.7</td><td>124</td><td>31</td></tr><tr><td>&quot;Yarra Ranges&quot;</td><td>&quot;Wandin&quot;</td><td>7999</td><td>12255</td><td>111.8</td><td>124</td><td>12</td></tr><tr><td>&quot;Yarra Ranges&quot;</td><td>&quot;Healesville&quot;</td><td>14040</td><td>12255</td><td>369.5</td><td>124</td><td>-79</td></tr><tr><td>&quot;Yarra Ranges&quot;</td><td>&quot;Kilsyth&quot;</td><td>10676</td><td>12255</td><td>8.2</td><td>124</td><td>327</td></tr></tbody></table></div>"
      ],
      "text/plain": [
       "shape: (451, 7)\n",
       "┌──────────┬────────────────┬──────────┬────────────────┬────────────────┬───────────────┬─────────┐\n",
       "│ Council  ┆ Suburb         ┆ 2024 Pop ┆ avg_suburb_pop ┆ Suburb Area    ┆ avg_suburb_ar ┆ 2023-24 │\n",
       "│ ---      ┆ ---            ┆ ---      ┆ _in_Council    ┆ km^2           ┆ ea_in_Council ┆ Change  │\n",
       "│ str      ┆ str            ┆ i64      ┆ ---            ┆ ---            ┆ ---           ┆ ---     │\n",
       "│          ┆                ┆          ┆ i64            ┆ f64            ┆ i64           ┆ i64     │\n",
       "╞══════════╪════════════════╪══════════╪════════════════╪════════════════╪═══════════════╪═════════╡\n",
       "│ Ballarat ┆ Sebastopol     ┆ 12839    ┆ 12356          ┆ 10.6           ┆ 45            ┆ -44     │\n",
       "│ Ballarat ┆ Smythes Creek  ┆ 4278     ┆ 12356          ┆ 104.7          ┆ 45            ┆ 11      │\n",
       "│ Ballarat ┆ Buninyong      ┆ 7358     ┆ 12356          ┆ 51.6           ┆ 45            ┆ 35      │\n",
       "│ Ballarat ┆ Delacombe      ┆ 14271    ┆ 12356          ┆ 34.2           ┆ 45            ┆ 1406    │\n",
       "│ Ballarat ┆ Ballarat       ┆ 11773    ┆ 12356          ┆ 12.4           ┆ 45            ┆ -38     │\n",
       "│ Ballarat ┆ Alfredton      ┆ 20130    ┆ 12356          ┆ 52.7           ┆ 45            ┆ 1135    │\n",
       "│ Ballarat ┆ Canadian       ┆ 12457    ┆ 12356          ┆ 22.3           ┆ 45            ┆ 24      │\n",
       "│ Ballarat ┆ Wendouree      ┆ 15570    ┆ 12356          ┆ 67.6           ┆ 45            ┆ 140     │\n",
       "│ Ballarat ┆ Ballarat North ┆ 15169    ┆ 12356          ┆ 73.1           ┆ 45            ┆ 156     │\n",
       "│ Ballarat ┆ Ballarat East  ┆ 9717     ┆ 12356          ┆ 19.2           ┆ 45            ┆ 88      │\n",
       "│ Banyule  ┆ Bundoora       ┆ 10240    ┆ 14659          ┆ 4.1            ┆ 7             ┆ 214     │\n",
       "│ Banyule  ┆ Greensborough  ┆ 21338    ┆ 14659          ┆ 10.1           ┆ 7             ┆ 359     │\n",
       "│ Banyule  ┆ Viewbank       ┆ 19009    ┆ 14659          ┆ 10.2           ┆ 7             ┆ -31     │\n",
       "│ Banyule  ┆ Heidelberg     ┆ 16703    ┆ 14659          ┆ 6.7            ┆ 7             ┆ 857     │\n",
       "│          ┆ West           ┆          ┆                ┆                ┆               ┆         │\n",
       "│ Banyule  ┆ Heidelberg     ┆ 16915    ┆ 14659          ┆ 6.4            ┆ 7             ┆ 315     │\n",
       "│ …        ┆ …              ┆ …        ┆ …              ┆ …              ┆ …             ┆ …       │\n",
       "│ Yarra    ┆ Carlton North  ┆ 8747     ┆ 12717          ┆ 2.3            ┆ 3             ┆ 210     │\n",
       "│ Yarra    ┆ Richmond       ┆ 15319    ┆ 12717          ┆ 1.9            ┆ 3             ┆ 428     │\n",
       "│ Yarra    ┆ Chirnside Park ┆ 12506    ┆ 12255          ┆ 22.2           ┆ 124           ┆ 117     │\n",
       "│ Ranges   ┆                ┆          ┆                ┆                ┆               ┆         │\n",
       "│ Yarra    ┆ Monbulk        ┆ 5834     ┆ 12255          ┆ 68.6           ┆ 124           ┆ 27      │\n",
       "│ Ranges   ┆                ┆          ┆                ┆                ┆               ┆         │\n",
       "│ Yarra    ┆ Yarra Valley   ┆ 17059    ┆ 12255          ┆ 729.8          ┆ 124           ┆ 99      │\n",
       "│ Ranges   ┆                ┆          ┆                ┆                ┆               ┆         │\n",
       "│ Yarra    ┆ Upwey          ┆ 9862     ┆ 12255          ┆ 8.9            ┆ 124           ┆ 87      │\n",
       "│ Ranges   ┆                ┆          ┆                ┆                ┆               ┆         │\n",
       "│ Yarra    ┆ Lilydale       ┆ 20533    ┆ 12255          ┆ 109.4          ┆ 124           ┆ 494     │\n",
       "│ Ranges   ┆                ┆          ┆                ┆                ┆               ┆         │\n",
       "│ Yarra    ┆ Mount Evelyn   ┆ 10032    ┆ 12255          ┆ 17.0           ┆ 124           ┆ 114     │\n",
       "│ Ranges   ┆                ┆          ┆                ┆                ┆               ┆         │\n",
       "│ Yarra    ┆ Mooroolbark    ┆ 24258    ┆ 12255          ┆ 12.5           ┆ 124           ┆ 276     │\n",
       "│ Ranges   ┆                ┆          ┆                ┆                ┆               ┆         │\n",
       "│ Yarra    ┆ Mount          ┆ 9609     ┆ 12255          ┆ 81.9           ┆ 124           ┆ -24     │\n",
       "│ Ranges   ┆ Dandenong      ┆          ┆                ┆                ┆               ┆         │\n",
       "│ Yarra    ┆ Montrose       ┆ 6921     ┆ 12255          ┆ 10.5           ┆ 124           ┆ -7      │\n",
       "│ Ranges   ┆                ┆          ┆                ┆                ┆               ┆         │\n",
       "│ Yarra    ┆ Belgrave       ┆ 9991     ┆ 12255          ┆ 55.7           ┆ 124           ┆ 31      │\n",
       "│ Ranges   ┆                ┆          ┆                ┆                ┆               ┆         │\n",
       "│ Yarra    ┆ Wandin         ┆ 7999     ┆ 12255          ┆ 111.8          ┆ 124           ┆ 12      │\n",
       "│ Ranges   ┆                ┆          ┆                ┆                ┆               ┆         │\n",
       "│ Yarra    ┆ Healesville    ┆ 14040    ┆ 12255          ┆ 369.5          ┆ 124           ┆ -79     │\n",
       "│ Ranges   ┆                ┆          ┆                ┆                ┆               ┆         │\n",
       "│ Yarra    ┆ Kilsyth        ┆ 10676    ┆ 12255          ┆ 8.2            ┆ 124           ┆ 327     │\n",
       "│ Ranges   ┆                ┆          ┆                ┆                ┆               ┆         │\n",
       "└──────────┴────────────────┴──────────┴────────────────┴────────────────┴───────────────┴─────────┘"
      ]
     },
     "execution_count": 21,
     "metadata": {},
     "output_type": "execute_result"
    }
   ],
   "source": [
    "df_stg"
   ]
  },
  {
   "cell_type": "code",
   "execution_count": null,
   "metadata": {},
   "outputs": [],
   "source": []
  }
 ],
 "metadata": {
  "kernelspec": {
   "display_name": "Python 3",
   "language": "python",
   "name": "python3"
  },
  "language_info": {
   "codemirror_mode": {
    "name": "ipython",
    "version": 3
   },
   "file_extension": ".py",
   "mimetype": "text/x-python",
   "name": "python",
   "nbconvert_exporter": "python",
   "pygments_lexer": "ipython3",
   "version": "3.11.12"
  }
 },
 "nbformat": 4,
 "nbformat_minor": 2
}
