{
 "cells": [
  {
   "cell_type": "code",
   "execution_count": 2,
   "metadata": {},
   "outputs": [],
   "source": [
    "import pandas as pd\n",
    "import numpy as np\n",
    "import polars as pl\n",
    "import fastexcel"
   ]
  },
  {
   "cell_type": "code",
   "execution_count": 14,
   "metadata": {},
   "outputs": [],
   "source": [
    "# Read in file\n",
    "df = pl.read_excel(\"data/Data_Tables_LGA_Criminal_Incidents_Year_Ending_March_2025.xlsx\", \n",
    "                   sheet_name=\"Table 03\",\n",
    "                #    read_options={\n",
    "                #     \"skip_rows\": 6,\n",
    "                #     }\n",
    "                   )\n",
    "# Column names change\n",
    "# df.columns = [\"GCCSA code\",\t\"GCCSA name\", \"SA4 code\", \"SA4 name\", \"SA3 code\",\n",
    "#               \"SA3 name\", \"SA2 code\", \"SA2 name\",\"2023 Pop\", \"2024 Pop\",\n",
    "#               \"2023-24 Change\", \"2023-24 Change %\", \"Natural Increase\", \"Net internal migration\",\n",
    "#               \"Net oveseas migration\",\"Area\",\"Population Density\"]"
   ]
  },
  {
   "cell_type": "code",
   "execution_count": 15,
   "metadata": {},
   "outputs": [
    {
     "data": {
      "text/html": [
       "<div><style>\n",
       ".dataframe > thead > tr,\n",
       ".dataframe > tbody > tr {\n",
       "  text-align: right;\n",
       "  white-space: pre-wrap;\n",
       "}\n",
       "</style>\n",
       "<small>shape: (5, 9)</small><table border=\"1\" class=\"dataframe\"><thead><tr><th>Year</th><th>Year ending</th><th>Local Government Area</th><th>Postcode</th><th>Suburb/Town Name</th><th>Offence Division</th><th>Offence Subdivision</th><th>Offence Subgroup</th><th>Incidents Recorded</th></tr><tr><td>i64</td><td>str</td><td>str</td><td>i64</td><td>str</td><td>str</td><td>str</td><td>str</td><td>i64</td></tr></thead><tbody><tr><td>2025</td><td>&quot;March&quot;</td><td>&quot;Alpine&quot;</td><td>3691</td><td>&quot;Coral Bank&quot;</td><td>&quot;D Public order and security offences&quot;</td><td>&quot;D10 Weapons and explosives offences&quot;</td><td>&quot;D11 Firearms offences&quot;</td><td>1</td></tr><tr><td>2025</td><td>&quot;March&quot;</td><td>&quot;Alpine&quot;</td><td>3691</td><td>&quot;Dederang&quot;</td><td>&quot;B Property and deception offences&quot;</td><td>&quot;B10 Arson&quot;</td><td>&quot;B19 Other fire related offences&quot;</td><td>1</td></tr><tr><td>2025</td><td>&quot;March&quot;</td><td>&quot;Alpine&quot;</td><td>3691</td><td>&quot;Dederang&quot;</td><td>&quot;B Property and deception offences&quot;</td><td>&quot;B30 Burglary/Break and enter&quot;</td><td>&quot;B322 Non-residential non-aggravated burglary&quot;</td><td>2</td></tr><tr><td>2025</td><td>&quot;March&quot;</td><td>&quot;Alpine&quot;</td><td>3691</td><td>&quot;Dederang&quot;</td><td>&quot;B Property and deception offences&quot;</td><td>&quot;B40 Theft&quot;</td><td>&quot;B42 Steal from a motor vehicle&quot;</td><td>1</td></tr><tr><td>2025</td><td>&quot;March&quot;</td><td>&quot;Alpine&quot;</td><td>3691</td><td>&quot;Dederang&quot;</td><td>&quot;B Property and deception offences&quot;</td><td>&quot;B40 Theft&quot;</td><td>&quot;B49 Other theft&quot;</td><td>1</td></tr></tbody></table></div>"
      ],
      "text/plain": [
       "shape: (5, 9)\n",
       "┌──────┬────────┬─────────────┬──────────┬───┬─────────────┬─────────────┬────────────┬────────────┐\n",
       "│ Year ┆ Year   ┆ Local       ┆ Postcode ┆ … ┆ Offence     ┆ Offence     ┆ Offence    ┆ Incidents  │\n",
       "│ ---  ┆ ending ┆ Government  ┆ ---      ┆   ┆ Division    ┆ Subdivision ┆ Subgroup   ┆ Recorded   │\n",
       "│ i64  ┆ ---    ┆ Area        ┆ i64      ┆   ┆ ---         ┆ ---         ┆ ---        ┆ ---        │\n",
       "│      ┆ str    ┆ ---         ┆          ┆   ┆ str         ┆ str         ┆ str        ┆ i64        │\n",
       "│      ┆        ┆ str         ┆          ┆   ┆             ┆             ┆            ┆            │\n",
       "╞══════╪════════╪═════════════╪══════════╪═══╪═════════════╪═════════════╪════════════╪════════════╡\n",
       "│ 2025 ┆ March  ┆ Alpine      ┆ 3691     ┆ … ┆ D Public    ┆ D10 Weapons ┆ D11        ┆ 1          │\n",
       "│      ┆        ┆             ┆          ┆   ┆ order and   ┆ and         ┆ Firearms   ┆            │\n",
       "│      ┆        ┆             ┆          ┆   ┆ security    ┆ explosives  ┆ offences   ┆            │\n",
       "│      ┆        ┆             ┆          ┆   ┆ offences    ┆ offences    ┆            ┆            │\n",
       "│ 2025 ┆ March  ┆ Alpine      ┆ 3691     ┆ … ┆ B Property  ┆ B10 Arson   ┆ B19 Other  ┆ 1          │\n",
       "│      ┆        ┆             ┆          ┆   ┆ and         ┆             ┆ fire       ┆            │\n",
       "│      ┆        ┆             ┆          ┆   ┆ deception   ┆             ┆ related    ┆            │\n",
       "│      ┆        ┆             ┆          ┆   ┆ offences    ┆             ┆ offences   ┆            │\n",
       "│ 2025 ┆ March  ┆ Alpine      ┆ 3691     ┆ … ┆ B Property  ┆ B30 Burglar ┆ B322 Non-r ┆ 2          │\n",
       "│      ┆        ┆             ┆          ┆   ┆ and         ┆ y/Break and ┆ esidential ┆            │\n",
       "│      ┆        ┆             ┆          ┆   ┆ deception   ┆ enter       ┆ non-aggrav ┆            │\n",
       "│      ┆        ┆             ┆          ┆   ┆ offences    ┆             ┆ ated       ┆            │\n",
       "│      ┆        ┆             ┆          ┆   ┆             ┆             ┆ burglary   ┆            │\n",
       "│ 2025 ┆ March  ┆ Alpine      ┆ 3691     ┆ … ┆ B Property  ┆ B40 Theft   ┆ B42 Steal  ┆ 1          │\n",
       "│      ┆        ┆             ┆          ┆   ┆ and         ┆             ┆ from a     ┆            │\n",
       "│      ┆        ┆             ┆          ┆   ┆ deception   ┆             ┆ motor      ┆            │\n",
       "│      ┆        ┆             ┆          ┆   ┆ offences    ┆             ┆ vehicle    ┆            │\n",
       "│ 2025 ┆ March  ┆ Alpine      ┆ 3691     ┆ … ┆ B Property  ┆ B40 Theft   ┆ B49 Other  ┆ 1          │\n",
       "│      ┆        ┆             ┆          ┆   ┆ and         ┆             ┆ theft      ┆            │\n",
       "│      ┆        ┆             ┆          ┆   ┆ deception   ┆             ┆            ┆            │\n",
       "│      ┆        ┆             ┆          ┆   ┆ offences    ┆             ┆            ┆            │\n",
       "└──────┴────────┴─────────────┴──────────┴───┴─────────────┴─────────────┴────────────┴────────────┘"
      ]
     },
     "execution_count": 15,
     "metadata": {},
     "output_type": "execute_result"
    }
   ],
   "source": [
    "df.head()"
   ]
  },
  {
   "cell_type": "code",
   "execution_count": 5,
   "metadata": {},
   "outputs": [],
   "source": [
    "pl.Config.set_fmt_str_lengths(50)\n",
    "pl.Config.set_tbl_rows(30)\n",
    "df_2024=(\n",
    "    df\n",
    "        .filter(pl.col(\"Year\") == 2024)\n",
    "        # .filter(pl.col(\"Offence Subdivision\") == \"B40 Theft\")\n",
    "\n",
    "        .group_by([\"Year\",\"Local Government Area\",\"Postcode\", \"Suburb/Town Name\", \"Offence Division\", 'Offence Subdivision'])\n",
    "        .agg(\n",
    "            pl.sum(\"Incidents Recorded\")\n",
    "        )\n",
    "        # .filter(pl.col(\"Local Government Area\") == 'Darebin')\n",
    "        .sort(\"Incidents Recorded\", descending=True)\n",
    "        .rename({\"Incidents Recorded\" : \"Incidents Recorded 2024\"})\n",
    "        [:,1:7] # select relevant columns\n",
    ")\n",
    "df_2024.write_csv(\"data/df_crime_2024.csv\")"
   ]
  },
  {
   "cell_type": "code",
   "execution_count": 22,
   "metadata": {},
   "outputs": [
    {
     "data": {
      "text/html": [
       "<div><style>\n",
       ".dataframe > thead > tr,\n",
       ".dataframe > tbody > tr {\n",
       "  text-align: right;\n",
       "  white-space: pre-wrap;\n",
       "}\n",
       "</style>\n",
       "<small>shape: (2, 6)</small><table border=\"1\" class=\"dataframe\"><thead><tr><th>Local Government Area</th><th>Postcode</th><th>Suburb/Town Name</th><th>Offence Division</th><th>Offence Subdivision</th><th>Incidents Recorded 2025</th></tr><tr><td>str</td><td>i64</td><td>str</td><td>str</td><td>str</td><td>i64</td></tr></thead><tbody><tr><td>&quot;Darebin&quot;</td><td>3078</td><td>&quot;Alphington&quot;</td><td>&quot;B Property and deception offences&quot;</td><td>&quot;B40 Theft&quot;</td><td>161</td></tr><tr><td>&quot;Yarra&quot;</td><td>3078</td><td>&quot;Alphington&quot;</td><td>&quot;B Property and deception offences&quot;</td><td>&quot;B40 Theft&quot;</td><td>119</td></tr></tbody></table></div>"
      ],
      "text/plain": [
       "shape: (2, 6)\n",
       "┌────────────┬──────────┬─────────────┬───────────────────────┬─────────────┬──────────────────────┐\n",
       "│ Local      ┆ Postcode ┆ Suburb/Town ┆ Offence Division      ┆ Offence     ┆ Incidents Recorded   │\n",
       "│ Government ┆ ---      ┆ Name        ┆ ---                   ┆ Subdivision ┆ 2025                 │\n",
       "│ Area       ┆ i64      ┆ ---         ┆ str                   ┆ ---         ┆ ---                  │\n",
       "│ ---        ┆          ┆ str         ┆                       ┆ str         ┆ i64                  │\n",
       "│ str        ┆          ┆             ┆                       ┆             ┆                      │\n",
       "╞════════════╪══════════╪═════════════╪═══════════════════════╪═════════════╪══════════════════════╡\n",
       "│ Darebin    ┆ 3078     ┆ Alphington  ┆ B Property and        ┆ B40 Theft   ┆ 161                  │\n",
       "│            ┆          ┆             ┆ deception offences    ┆             ┆                      │\n",
       "│ Yarra      ┆ 3078     ┆ Alphington  ┆ B Property and        ┆ B40 Theft   ┆ 119                  │\n",
       "│            ┆          ┆             ┆ deception offences    ┆             ┆                      │\n",
       "└────────────┴──────────┴─────────────┴───────────────────────┴─────────────┴──────────────────────┘"
      ]
     },
     "execution_count": 22,
     "metadata": {},
     "output_type": "execute_result"
    }
   ],
   "source": [
    "pl.Config.set_tbl_rows(100)\n",
    "# df_2025=\n",
    "(\n",
    "    df\n",
    "        .filter(pl.col(\"Year\") == 2025)\n",
    "        .filter(pl.col(\"Suburb/Town Name\") == 'Alphington')\n",
    "        .filter(pl.col(\"Offence Subdivision\") == 'B40 Theft')\n",
    "\n",
    "        .group_by([\"Year\",\"Local Government Area\",\"Postcode\", \"Suburb/Town Name\", \"Offence Division\", 'Offence Subdivision'])\n",
    "        .agg(\n",
    "            pl.sum(\"Incidents Recorded\")\n",
    "        )\n",
    "\n",
    "        .sort(\"Incidents Recorded\", descending=True)\n",
    "        .rename({\"Incidents Recorded\" : \"Incidents Recorded 2025\"})\n",
    "     \n",
    "        [:,1:9] # select relevant columns\n",
    ")\n",
    "# df_2025.write_csv(\"data/df_crime_2025.csv\")"
   ]
  },
  {
   "cell_type": "code",
   "execution_count": 7,
   "metadata": {},
   "outputs": [],
   "source": [
    "pl.Config.set_tbl_rows(20)\n",
    "df_crime=(\n",
    "    df_2024\n",
    "    .join(\n",
    "        df_2025,\n",
    "        on = ['Postcode','Suburb/Town Name','Offence Subdivision'],\n",
    "        how = 'left'\n",
    "    )\n",
    "    .select([\"Local Government Area\",\"Postcode\", \"Suburb/Town Name\", \n",
    "             \"Offence Division\", 'Offence Subdivision',\"Incidents Recorded 2024\",\n",
    "             \"Incidents Recorded 2025\"])\n",
    "    # .filter(\n",
    "    #     pl.col(\"Local Government Area\") == 'Darebin'\n",
    "    # )\n",
    "    .with_columns(\n",
    "        (\n",
    "        pl.when(pl.col(\"Incidents Recorded 2024\")>10) # do not record pcp change if sample is under 10\n",
    "        .then(\n",
    "            ((pl.col(\"Incidents Recorded 2025\")/pl.col(\"Incidents Recorded 2024\")) - 1)*100)\n",
    "        .otherwise(None)\n",
    "        )\n",
    "        .alias(\"% change\")\n",
    "    )\n",
    "    .with_columns(\n",
    "        (\n",
    "        pl.col(\"Incidents Recorded 2025\")-pl.col(\"Incidents Recorded 2024\")\n",
    "    ).alias(\"# change\")\n",
    "    )\n",
    "    .sort(\"Incidents Recorded 2024\", descending=True)\n",
    ")"
   ]
  },
  {
   "cell_type": "code",
   "execution_count": null,
   "metadata": {},
   "outputs": [],
   "source": [
    "int(df_crime.filter(pl.col(\"Local Government Area\") == sel_council).filter(pl.col(\"Offence Subdivision\")==subdivision_value).select(pl.col('Incidents Recorded 2025').mean()).item())"
   ]
  },
  {
   "cell_type": "code",
   "execution_count": 24,
   "metadata": {},
   "outputs": [],
   "source": [
    "sel_council=df_crime.filter(pl.col(\"Suburb/Town Name\") == 'Balwyn').filter(pl.col(\"Offence Subdivision\")=='A20 Assault and related offences').select(pl.col('Local Government Area')).item()\n",
    "x = int(df_crime.filter(pl.col(\"Local Government Area\") == sel_council).filter(pl.col(\"Offence Subdivision\")=='A20 Assault and related offences').select(pl.col('Incidents Recorded 2025').mean()).item())\n",
    "x1 = int(df_crime.filter(pl.col(\"Local Government Area\") == sel_council).filter(pl.col(\"Offence Subdivision\")=='A20 Assault and related offences').select(pl.col('# change').mean()).item())\n"
   ]
  },
  {
   "cell_type": "code",
   "execution_count": 26,
   "metadata": {},
   "outputs": [
    {
     "data": {
      "text/plain": [
       "36"
      ]
     },
     "execution_count": 26,
     "metadata": {},
     "output_type": "execute_result"
    }
   ],
   "source": [
    "x"
   ]
  },
  {
   "cell_type": "code",
   "execution_count": 12,
   "metadata": {},
   "outputs": [
    {
     "data": {
      "text/html": [
       "<div><style>\n",
       ".dataframe > thead > tr,\n",
       ".dataframe > tbody > tr {\n",
       "  text-align: right;\n",
       "  white-space: pre-wrap;\n",
       "}\n",
       "</style>\n",
       "<small>shape: (14, 9)</small><table border=\"1\" class=\"dataframe\"><thead><tr><th>Local Government Area</th><th>Postcode</th><th>Suburb/Town Name</th><th>Offence Division</th><th>Offence Subdivision</th><th>Incidents Recorded 2024</th><th>Incidents Recorded 2025</th><th>% change</th><th># change</th></tr><tr><td>str</td><td>i64</td><td>str</td><td>str</td><td>str</td><td>i64</td><td>i64</td><td>f64</td><td>i64</td></tr></thead><tbody><tr><td>&quot;Darebin&quot;</td><td>3078</td><td>&quot;Alphington&quot;</td><td>&quot;B Property and deception offences&quot;</td><td>&quot;B40 Theft&quot;</td><td>93</td><td>161</td><td>73.11828</td><td>68</td></tr><tr><td>&quot;Darebin&quot;</td><td>3078</td><td>&quot;Alphington&quot;</td><td>&quot;B Property and deception offences&quot;</td><td>&quot;B40 Theft&quot;</td><td>93</td><td>119</td><td>27.956989</td><td>26</td></tr><tr><td>&quot;Darebin&quot;</td><td>3083</td><td>&quot;Bundoora&quot;</td><td>&quot;B Property and deception offences&quot;</td><td>&quot;B40 Theft&quot;</td><td>186</td><td>745</td><td>300.537634</td><td>559</td></tr><tr><td>&quot;Darebin&quot;</td><td>3083</td><td>&quot;Bundoora&quot;</td><td>&quot;B Property and deception offences&quot;</td><td>&quot;B40 Theft&quot;</td><td>186</td><td>345</td><td>85.483871</td><td>159</td></tr><tr><td>&quot;Darebin&quot;</td><td>3083</td><td>&quot;Bundoora&quot;</td><td>&quot;B Property and deception offences&quot;</td><td>&quot;B40 Theft&quot;</td><td>186</td><td>199</td><td>6.989247</td><td>13</td></tr><tr><td>&quot;Darebin&quot;</td><td>3078</td><td>&quot;Fairfield&quot;</td><td>&quot;B Property and deception offences&quot;</td><td>&quot;B40 Theft&quot;</td><td>175</td><td>281</td><td>60.571429</td><td>106</td></tr><tr><td>&quot;Darebin&quot;</td><td>3078</td><td>&quot;Fairfield&quot;</td><td>&quot;B Property and deception offences&quot;</td><td>&quot;B40 Theft&quot;</td><td>175</td><td>41</td><td>-76.571429</td><td>-134</td></tr><tr><td>&quot;Darebin&quot;</td><td>3083</td><td>&quot;Kingsbury&quot;</td><td>&quot;B Property and deception offences&quot;</td><td>&quot;B40 Theft&quot;</td><td>103</td><td>139</td><td>34.951456</td><td>36</td></tr><tr><td>&quot;Darebin&quot;</td><td>3085</td><td>&quot;Macleod&quot;</td><td>&quot;B Property and deception offences&quot;</td><td>&quot;B40 Theft&quot;</td><td>19</td><td>114</td><td>500.0</td><td>95</td></tr><tr><td>&quot;Darebin&quot;</td><td>3085</td><td>&quot;Macleod&quot;</td><td>&quot;B Property and deception offences&quot;</td><td>&quot;B40 Theft&quot;</td><td>19</td><td>30</td><td>57.894737</td><td>11</td></tr><tr><td>&quot;Darebin&quot;</td><td>3070</td><td>&quot;Northcote&quot;</td><td>&quot;B Property and deception offences&quot;</td><td>&quot;B40 Theft&quot;</td><td>633</td><td>988</td><td>56.082148</td><td>355</td></tr><tr><td>&quot;Darebin&quot;</td><td>3072</td><td>&quot;Preston&quot;</td><td>&quot;B Property and deception offences&quot;</td><td>&quot;B40 Theft&quot;</td><td>1767</td><td>3006</td><td>70.118846</td><td>1239</td></tr><tr><td>&quot;Darebin&quot;</td><td>3073</td><td>&quot;Reservoir&quot;</td><td>&quot;B Property and deception offences&quot;</td><td>&quot;B40 Theft&quot;</td><td>1423</td><td>2172</td><td>52.635278</td><td>749</td></tr><tr><td>&quot;Darebin&quot;</td><td>3071</td><td>&quot;Thornbury&quot;</td><td>&quot;B Property and deception offences&quot;</td><td>&quot;B40 Theft&quot;</td><td>509</td><td>832</td><td>63.45776</td><td>323</td></tr></tbody></table></div>"
      ],
      "text/plain": [
       "shape: (14, 9)\n",
       "┌────────────┬──────────┬───────────┬───────────┬───┬───────────┬───────────┬───────────┬──────────┐\n",
       "│ Local      ┆ Postcode ┆ Suburb/To ┆ Offence   ┆ … ┆ Incidents ┆ Incidents ┆ % change  ┆ # change │\n",
       "│ Government ┆ ---      ┆ wn Name   ┆ Division  ┆   ┆ Recorded  ┆ Recorded  ┆ ---       ┆ ---      │\n",
       "│ Area       ┆ i64      ┆ ---       ┆ ---       ┆   ┆ 2024      ┆ 2025      ┆ f64       ┆ i64      │\n",
       "│ ---        ┆          ┆ str       ┆ str       ┆   ┆ ---       ┆ ---       ┆           ┆          │\n",
       "│ str        ┆          ┆           ┆           ┆   ┆ i64       ┆ i64       ┆           ┆          │\n",
       "╞════════════╪══════════╪═══════════╪═══════════╪═══╪═══════════╪═══════════╪═══════════╪══════════╡\n",
       "│ Darebin    ┆ 3078     ┆ Alphingto ┆ B         ┆ … ┆ 93        ┆ 161       ┆ 73.11828  ┆ 68       │\n",
       "│            ┆          ┆ n         ┆ Property  ┆   ┆           ┆           ┆           ┆          │\n",
       "│            ┆          ┆           ┆ and       ┆   ┆           ┆           ┆           ┆          │\n",
       "│            ┆          ┆           ┆ deception ┆   ┆           ┆           ┆           ┆          │\n",
       "│            ┆          ┆           ┆ offences  ┆   ┆           ┆           ┆           ┆          │\n",
       "│ Darebin    ┆ 3078     ┆ Alphingto ┆ B         ┆ … ┆ 93        ┆ 119       ┆ 27.956989 ┆ 26       │\n",
       "│            ┆          ┆ n         ┆ Property  ┆   ┆           ┆           ┆           ┆          │\n",
       "│            ┆          ┆           ┆ and       ┆   ┆           ┆           ┆           ┆          │\n",
       "│            ┆          ┆           ┆ deception ┆   ┆           ┆           ┆           ┆          │\n",
       "│            ┆          ┆           ┆ offences  ┆   ┆           ┆           ┆           ┆          │\n",
       "│ Darebin    ┆ 3083     ┆ Bundoora  ┆ B         ┆ … ┆ 186       ┆ 745       ┆ 300.53763 ┆ 559      │\n",
       "│            ┆          ┆           ┆ Property  ┆   ┆           ┆           ┆ 4         ┆          │\n",
       "│            ┆          ┆           ┆ and       ┆   ┆           ┆           ┆           ┆          │\n",
       "│            ┆          ┆           ┆ deception ┆   ┆           ┆           ┆           ┆          │\n",
       "│            ┆          ┆           ┆ offences  ┆   ┆           ┆           ┆           ┆          │\n",
       "│ Darebin    ┆ 3083     ┆ Bundoora  ┆ B         ┆ … ┆ 186       ┆ 345       ┆ 85.483871 ┆ 159      │\n",
       "│            ┆          ┆           ┆ Property  ┆   ┆           ┆           ┆           ┆          │\n",
       "│            ┆          ┆           ┆ and       ┆   ┆           ┆           ┆           ┆          │\n",
       "│            ┆          ┆           ┆ deception ┆   ┆           ┆           ┆           ┆          │\n",
       "│            ┆          ┆           ┆ offences  ┆   ┆           ┆           ┆           ┆          │\n",
       "│ Darebin    ┆ 3083     ┆ Bundoora  ┆ B         ┆ … ┆ 186       ┆ 199       ┆ 6.989247  ┆ 13       │\n",
       "│            ┆          ┆           ┆ Property  ┆   ┆           ┆           ┆           ┆          │\n",
       "│            ┆          ┆           ┆ and       ┆   ┆           ┆           ┆           ┆          │\n",
       "│            ┆          ┆           ┆ deception ┆   ┆           ┆           ┆           ┆          │\n",
       "│            ┆          ┆           ┆ offences  ┆   ┆           ┆           ┆           ┆          │\n",
       "│ Darebin    ┆ 3078     ┆ Fairfield ┆ B         ┆ … ┆ 175       ┆ 281       ┆ 60.571429 ┆ 106      │\n",
       "│            ┆          ┆           ┆ Property  ┆   ┆           ┆           ┆           ┆          │\n",
       "│            ┆          ┆           ┆ and       ┆   ┆           ┆           ┆           ┆          │\n",
       "│            ┆          ┆           ┆ deception ┆   ┆           ┆           ┆           ┆          │\n",
       "│            ┆          ┆           ┆ offences  ┆   ┆           ┆           ┆           ┆          │\n",
       "│ Darebin    ┆ 3078     ┆ Fairfield ┆ B         ┆ … ┆ 175       ┆ 41        ┆ -76.57142 ┆ -134     │\n",
       "│            ┆          ┆           ┆ Property  ┆   ┆           ┆           ┆ 9         ┆          │\n",
       "│            ┆          ┆           ┆ and       ┆   ┆           ┆           ┆           ┆          │\n",
       "│            ┆          ┆           ┆ deception ┆   ┆           ┆           ┆           ┆          │\n",
       "│            ┆          ┆           ┆ offences  ┆   ┆           ┆           ┆           ┆          │\n",
       "│ Darebin    ┆ 3083     ┆ Kingsbury ┆ B         ┆ … ┆ 103       ┆ 139       ┆ 34.951456 ┆ 36       │\n",
       "│            ┆          ┆           ┆ Property  ┆   ┆           ┆           ┆           ┆          │\n",
       "│            ┆          ┆           ┆ and       ┆   ┆           ┆           ┆           ┆          │\n",
       "│            ┆          ┆           ┆ deception ┆   ┆           ┆           ┆           ┆          │\n",
       "│            ┆          ┆           ┆ offences  ┆   ┆           ┆           ┆           ┆          │\n",
       "│ Darebin    ┆ 3085     ┆ Macleod   ┆ B         ┆ … ┆ 19        ┆ 114       ┆ 500.0     ┆ 95       │\n",
       "│            ┆          ┆           ┆ Property  ┆   ┆           ┆           ┆           ┆          │\n",
       "│            ┆          ┆           ┆ and       ┆   ┆           ┆           ┆           ┆          │\n",
       "│            ┆          ┆           ┆ deception ┆   ┆           ┆           ┆           ┆          │\n",
       "│            ┆          ┆           ┆ offences  ┆   ┆           ┆           ┆           ┆          │\n",
       "│ Darebin    ┆ 3085     ┆ Macleod   ┆ B         ┆ … ┆ 19        ┆ 30        ┆ 57.894737 ┆ 11       │\n",
       "│            ┆          ┆           ┆ Property  ┆   ┆           ┆           ┆           ┆          │\n",
       "│            ┆          ┆           ┆ and       ┆   ┆           ┆           ┆           ┆          │\n",
       "│            ┆          ┆           ┆ deception ┆   ┆           ┆           ┆           ┆          │\n",
       "│            ┆          ┆           ┆ offences  ┆   ┆           ┆           ┆           ┆          │\n",
       "│ Darebin    ┆ 3070     ┆ Northcote ┆ B         ┆ … ┆ 633       ┆ 988       ┆ 56.082148 ┆ 355      │\n",
       "│            ┆          ┆           ┆ Property  ┆   ┆           ┆           ┆           ┆          │\n",
       "│            ┆          ┆           ┆ and       ┆   ┆           ┆           ┆           ┆          │\n",
       "│            ┆          ┆           ┆ deception ┆   ┆           ┆           ┆           ┆          │\n",
       "│            ┆          ┆           ┆ offences  ┆   ┆           ┆           ┆           ┆          │\n",
       "│ Darebin    ┆ 3072     ┆ Preston   ┆ B         ┆ … ┆ 1767      ┆ 3006      ┆ 70.118846 ┆ 1239     │\n",
       "│            ┆          ┆           ┆ Property  ┆   ┆           ┆           ┆           ┆          │\n",
       "│            ┆          ┆           ┆ and       ┆   ┆           ┆           ┆           ┆          │\n",
       "│            ┆          ┆           ┆ deception ┆   ┆           ┆           ┆           ┆          │\n",
       "│            ┆          ┆           ┆ offences  ┆   ┆           ┆           ┆           ┆          │\n",
       "│ Darebin    ┆ 3073     ┆ Reservoir ┆ B         ┆ … ┆ 1423      ┆ 2172      ┆ 52.635278 ┆ 749      │\n",
       "│            ┆          ┆           ┆ Property  ┆   ┆           ┆           ┆           ┆          │\n",
       "│            ┆          ┆           ┆ and       ┆   ┆           ┆           ┆           ┆          │\n",
       "│            ┆          ┆           ┆ deception ┆   ┆           ┆           ┆           ┆          │\n",
       "│            ┆          ┆           ┆ offences  ┆   ┆           ┆           ┆           ┆          │\n",
       "│ Darebin    ┆ 3071     ┆ Thornbury ┆ B         ┆ … ┆ 509       ┆ 832       ┆ 63.45776  ┆ 323      │\n",
       "│            ┆          ┆           ┆ Property  ┆   ┆           ┆           ┆           ┆          │\n",
       "│            ┆          ┆           ┆ and       ┆   ┆           ┆           ┆           ┆          │\n",
       "│            ┆          ┆           ┆ deception ┆   ┆           ┆           ┆           ┆          │\n",
       "│            ┆          ┆           ┆ offences  ┆   ┆           ┆           ┆           ┆          │\n",
       "└────────────┴──────────┴───────────┴───────────┴───┴───────────┴───────────┴───────────┴──────────┘"
      ]
     },
     "execution_count": 12,
     "metadata": {},
     "output_type": "execute_result"
    }
   ],
   "source": [
    "(\n",
    "    df_crime\n",
    "    .filter(\n",
    "        pl.col(\"Local Government Area\") == 'Darebin'\n",
    "    )    \n",
    "    .filter(\n",
    "        pl.col(\"Offence Subdivision\")=='B40 Theft'\n",
    "    )\n",
    "    .sort(\"Suburb/Town Name\")\n",
    ")"
   ]
  },
  {
   "cell_type": "code",
   "execution_count": null,
   "metadata": {},
   "outputs": [],
   "source": []
  }
 ],
 "metadata": {
  "kernelspec": {
   "display_name": "Python 3",
   "language": "python",
   "name": "python3"
  },
  "language_info": {
   "codemirror_mode": {
    "name": "ipython",
    "version": 3
   },
   "file_extension": ".py",
   "mimetype": "text/x-python",
   "name": "python",
   "nbconvert_exporter": "python",
   "pygments_lexer": "ipython3",
   "version": "3.11.12"
  }
 },
 "nbformat": 4,
 "nbformat_minor": 2
}
