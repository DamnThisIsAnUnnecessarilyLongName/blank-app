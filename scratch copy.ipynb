{
 "cells": [
  {
   "cell_type": "code",
   "execution_count": 1,
   "metadata": {},
   "outputs": [],
   "source": [
    "import pandas as pd\n",
    "import numpy as np\n",
    "import polars as pl\n",
    "import fastexcel"
   ]
  },
  {
   "cell_type": "code",
   "execution_count": 2,
   "metadata": {},
   "outputs": [],
   "source": [
    "df1 = pl.read_csv(\"data/vic_mapping.csv\")\n",
    "df2 = pl.read_csv(\"data/mapping.csv\")"
   ]
  },
  {
   "cell_type": "code",
   "execution_count": 8,
   "metadata": {},
   "outputs": [],
   "source": [
    "df2.join(df1,how='left',on='Suburb/Town Name').write_csv(\"mapping_fnl.csv\")"
   ]
  },
  {
   "cell_type": "code",
   "execution_count": 9,
   "metadata": {},
   "outputs": [],
   "source": [
    "# Read in file\n",
    "df = pl.read_excel(\"data/Data_Tables_LGA_Criminal_Incidents_Year_Ending_March_2025.xlsx\", \n",
    "                   sheet_name=\"Table 03\",\n",
    "                #    read_options={\n",
    "                #     \"skip_rows\": 6,\n",
    "                #     }\n",
    "                   )\n",
    "# Column names change\n",
    "# df.columns = [\"GCCSA code\",\t\"GCCSA name\", \"SA4 code\", \"SA4 name\", \"SA3 code\",\n",
    "#               \"SA3 name\", \"SA2 code\", \"SA2 name\",\"2023 Pop\", \"2024 Pop\",\n",
    "#               \"2023-24 Change\", \"2023-24 Change %\", \"Natural Increase\", \"Net internal migration\",\n",
    "#               \"Net oveseas migration\",\"Area\",\"Population Density\"]\n",
    "df_map = pl.read_csv(\"data/mapping_fnl.csv\")"
   ]
  },
  {
   "cell_type": "code",
   "execution_count": 10,
   "metadata": {},
   "outputs": [
    {
     "data": {
      "text/html": [
       "<div><style>\n",
       ".dataframe > thead > tr,\n",
       ".dataframe > tbody > tr {\n",
       "  text-align: right;\n",
       "  white-space: pre-wrap;\n",
       "}\n",
       "</style>\n",
       "<small>shape: (1, 4)</small><table border=\"1\" class=\"dataframe\"><thead><tr><th>Suburb/Town Name</th><th>Region</th><th>Local Government Area</th><th>Postcode</th></tr><tr><td>str</td><td>str</td><td>str</td><td>i64</td></tr></thead><tbody><tr><td>&quot;Templestowe&quot;</td><td>&quot;Metro Inner East&quot;</td><td>null</td><td>null</td></tr></tbody></table></div>"
      ],
      "text/plain": [
       "shape: (1, 4)\n",
       "┌──────────────────┬──────────────────┬───────────────────────┬──────────┐\n",
       "│ Suburb/Town Name ┆ Region           ┆ Local Government Area ┆ Postcode │\n",
       "│ ---              ┆ ---              ┆ ---                   ┆ ---      │\n",
       "│ str              ┆ str              ┆ str                   ┆ i64      │\n",
       "╞══════════════════╪══════════════════╪═══════════════════════╪══════════╡\n",
       "│ Templestowe      ┆ Metro Inner East ┆ null                  ┆ null     │\n",
       "└──────────────────┴──────────────────┴───────────────────────┴──────────┘"
      ]
     },
     "execution_count": 10,
     "metadata": {},
     "output_type": "execute_result"
    }
   ],
   "source": [
    "(\n",
    "    df_map.filter(pl.col(\"Suburb/Town Name\") == 'Templestowe')\n",
    ")\n"
   ]
  },
  {
   "cell_type": "code",
   "execution_count": 12,
   "metadata": {},
   "outputs": [
    {
     "data": {
      "text/html": [
       "<div><style>\n",
       ".dataframe > thead > tr,\n",
       ".dataframe > tbody > tr {\n",
       "  text-align: right;\n",
       "  white-space: pre-wrap;\n",
       "}\n",
       "</style>\n",
       "<small>shape: (171_813, 6)</small><table border=\"1\" class=\"dataframe\"><thead><tr><th>Year</th><th>Region</th><th>Suburb/Town Name</th><th>Offence Division</th><th>Offence Subdivision</th><th>Incidents Recorded</th></tr><tr><td>i64</td><td>str</td><td>str</td><td>str</td><td>str</td><td>i64</td></tr></thead><tbody><tr><td>2016</td><td>&quot;Metro Outer East&quot;</td><td>&quot;Kilsyth&quot;</td><td>&quot;D Public order and security of…</td><td>&quot;D20 Disorderly and offensive c…</td><td>5</td></tr><tr><td>2017</td><td>null</td><td>&quot;Colignan&quot;</td><td>&quot;E Justice procedures offences&quot;</td><td>&quot;E20 Breaches of orders&quot;</td><td>2</td></tr><tr><td>2016</td><td>&quot;Other&quot;</td><td>&quot;Herne Hill&quot;</td><td>&quot;E Justice procedures offences&quot;</td><td>&quot;E20 Breaches of orders&quot;</td><td>21</td></tr><tr><td>2025</td><td>null</td><td>&quot;Ellinbank&quot;</td><td>&quot;B Property and deception offen…</td><td>&quot;B30 Burglary/Break and enter&quot;</td><td>2</td></tr><tr><td>2025</td><td>null</td><td>&quot;Yarrambat&quot;</td><td>&quot;C Drug offences&quot;</td><td>&quot;C30 Drug use and possession&quot;</td><td>1</td></tr><tr><td>&hellip;</td><td>&hellip;</td><td>&hellip;</td><td>&hellip;</td><td>&hellip;</td><td>&hellip;</td></tr><tr><td>2020</td><td>&quot;Metro Inner West&quot;</td><td>&quot;Ascot Vale&quot;</td><td>&quot;A Crimes against the person&quot;</td><td>&quot;A20 Assault and related offenc…</td><td>100</td></tr><tr><td>2020</td><td>&quot;Metro Inner East&quot;</td><td>&quot;Rowville&quot;</td><td>&quot;B Property and deception offen…</td><td>&quot;B30 Burglary/Break and enter&quot;</td><td>138</td></tr><tr><td>2019</td><td>&quot;Metro Inner North&quot;</td><td>&quot;Ivanhoe&quot;</td><td>&quot;B Property and deception offen…</td><td>&quot;B30 Burglary/Break and enter&quot;</td><td>148</td></tr><tr><td>2025</td><td>&quot;Other&quot;</td><td>&quot;Mansfield&quot;</td><td>&quot;B Property and deception offen…</td><td>&quot;B50 Deception&quot;</td><td>8</td></tr><tr><td>2022</td><td>&quot;Metro Outer South&quot;</td><td>&quot;Rosebud&quot;</td><td>&quot;D Public order and security of…</td><td>&quot;D30 Public nuisance offences&quot;</td><td>6</td></tr></tbody></table></div>"
      ],
      "text/plain": [
       "shape: (171_813, 6)\n",
       "┌──────┬─────────────┬──────────────────┬───────────────────────┬──────────────────────┬───────────┐\n",
       "│ Year ┆ Region      ┆ Suburb/Town Name ┆ Offence Division      ┆ Offence Subdivision  ┆ Incidents │\n",
       "│ ---  ┆ ---         ┆ ---              ┆ ---                   ┆ ---                  ┆ Recorded  │\n",
       "│ i64  ┆ str         ┆ str              ┆ str                   ┆ str                  ┆ ---       │\n",
       "│      ┆             ┆                  ┆                       ┆                      ┆ i64       │\n",
       "╞══════╪═════════════╪══════════════════╪═══════════════════════╪══════════════════════╪═══════════╡\n",
       "│ 2016 ┆ Metro Outer ┆ Kilsyth          ┆ D Public order and    ┆ D20 Disorderly and   ┆ 5         │\n",
       "│      ┆ East        ┆                  ┆ security of…          ┆ offensive c…         ┆           │\n",
       "│ 2017 ┆ null        ┆ Colignan         ┆ E Justice procedures  ┆ E20 Breaches of      ┆ 2         │\n",
       "│      ┆             ┆                  ┆ offences              ┆ orders               ┆           │\n",
       "│ 2016 ┆ Other       ┆ Herne Hill       ┆ E Justice procedures  ┆ E20 Breaches of      ┆ 21        │\n",
       "│      ┆             ┆                  ┆ offences              ┆ orders               ┆           │\n",
       "│ 2025 ┆ null        ┆ Ellinbank        ┆ B Property and        ┆ B30 Burglary/Break   ┆ 2         │\n",
       "│      ┆             ┆                  ┆ deception offen…      ┆ and enter            ┆           │\n",
       "│ 2025 ┆ null        ┆ Yarrambat        ┆ C Drug offences       ┆ C30 Drug use and     ┆ 1         │\n",
       "│      ┆             ┆                  ┆                       ┆ possession           ┆           │\n",
       "│ …    ┆ …           ┆ …                ┆ …                     ┆ …                    ┆ …         │\n",
       "│ 2020 ┆ Metro Inner ┆ Ascot Vale       ┆ A Crimes against the  ┆ A20 Assault and      ┆ 100       │\n",
       "│      ┆ West        ┆                  ┆ person                ┆ related offenc…      ┆           │\n",
       "│ 2020 ┆ Metro Inner ┆ Rowville         ┆ B Property and        ┆ B30 Burglary/Break   ┆ 138       │\n",
       "│      ┆ East        ┆                  ┆ deception offen…      ┆ and enter            ┆           │\n",
       "│ 2019 ┆ Metro Inner ┆ Ivanhoe          ┆ B Property and        ┆ B30 Burglary/Break   ┆ 148       │\n",
       "│      ┆ North       ┆                  ┆ deception offen…      ┆ and enter            ┆           │\n",
       "│ 2025 ┆ Other       ┆ Mansfield        ┆ B Property and        ┆ B50 Deception        ┆ 8         │\n",
       "│      ┆             ┆                  ┆ deception offen…      ┆                      ┆           │\n",
       "│ 2022 ┆ Metro Outer ┆ Rosebud          ┆ D Public order and    ┆ D30 Public nuisance  ┆ 6         │\n",
       "│      ┆ South       ┆                  ┆ security of…          ┆ offences             ┆           │\n",
       "└──────┴─────────────┴──────────────────┴───────────────────────┴──────────────────────┴───────────┘"
      ]
     },
     "execution_count": 12,
     "metadata": {},
     "output_type": "execute_result"
    }
   ],
   "source": [
    "df_joined=(\n",
    "    df\n",
    "    .join(\n",
    "        df_map,\n",
    "        how='left',\n",
    "        left_on='Suburb/Town Name',\n",
    "        right_on='Suburb/Town Name'\n",
    "    )\n",
    "    .select([\"Year\", \"Suburb/Town Name\", \"Offence Division\", 'Offence Subdivision','Region','Incidents Recorded'])\n",
    "    # .group_by(['Suburb/Town Name',\n",
    "    #     'Offence Division', 'Offence Subdivision', 'Incidents Recorded 2024',\n",
    "    # 'Incidents Recorded 2025','% change', '# change', 'Region'])\n",
    "    # .filter(\n",
    "    #     pl.col(\"Region\").is_not_null()\n",
    "    # )\n",
    "    .with_columns(pl.col(\"Suburb/Town Name\").str.replace(\"Melbourne\", \"Melbourne CBD\"))\n",
    "    .group_by([\"Year\",\"Region\", \"Suburb/Town Name\", \"Offence Division\", 'Offence Subdivision'])\n",
    "    .agg(\n",
    "        pl.sum(\"Incidents Recorded\")\n",
    "\n",
    "    )\n",
    "    )\n",
    "df_joined"
   ]
  },
  {
   "cell_type": "code",
   "execution_count": 13,
   "metadata": {},
   "outputs": [],
   "source": [
    "pl.Config.set_fmt_str_lengths(50)\n",
    "pl.Config.set_tbl_rows(30)\n",
    "df_2024=(\n",
    "    df_joined\n",
    "        .filter(pl.col(\"Year\") == 2024)\n",
    "        # .filter(pl.col(\"Offence Subdivision\") == \"B40 Theft\")\n",
    "\n",
    "        .group_by([\"Year\",\"Region\", \"Suburb/Town Name\", \"Offence Division\", 'Offence Subdivision'])\n",
    "        .agg(\n",
    "            pl.sum(\"Incidents Recorded\")\n",
    "        )\n",
    "        # .filter(pl.col(\"Local Government Area\") == 'Darebin')\n",
    "        .sort(\"Incidents Recorded\", descending=True)\n",
    "        .rename({\"Incidents Recorded\" : \"Incidents Recorded 2024\"})\n",
    "        [:,1:7] # select relevant columns\n",
    ")\n",
    "df_2024.write_csv(\"data/df_crime_2024.csv\")"
   ]
  },
  {
   "cell_type": "code",
   "execution_count": 14,
   "metadata": {},
   "outputs": [],
   "source": [
    "pl.Config.set_tbl_rows(100)\n",
    "df_2025=(\n",
    "    df_joined\n",
    "        .filter(pl.col(\"Year\") == 2025)\n",
    "        \n",
    "        .group_by([\"Year\",\"Region\", \"Suburb/Town Name\", \"Offence Division\", 'Offence Subdivision'])\n",
    "        .agg(\n",
    "            pl.sum(\"Incidents Recorded\")\n",
    "        )\n",
    "\n",
    "        .sort(\"Incidents Recorded\", descending=True)\n",
    "        .rename({\"Incidents Recorded\" : \"Incidents Recorded 2025\"})\n",
    "     \n",
    "        [:,1:9] # select relevant columns\n",
    ")\n",
    "# df_2025.write_csv(\"data/df_crime_2025.csv\")"
   ]
  },
  {
   "cell_type": "code",
   "execution_count": 15,
   "metadata": {},
   "outputs": [],
   "source": [
    "pl.Config.set_tbl_rows(20)\n",
    "df_crime=(\n",
    "    df_2024\n",
    "    .join(\n",
    "        df_2025,\n",
    "        on = ['Suburb/Town Name','Offence Subdivision'],\n",
    "        how = 'left'\n",
    "    )\n",
    "    .select([\"Region\", \"Suburb/Town Name\", \n",
    "             \"Offence Division\", 'Offence Subdivision',\"Incidents Recorded 2024\",\n",
    "             \"Incidents Recorded 2025\"])\n",
    "    # .filter(\n",
    "    #     pl.col(\"Local Government Area\") == 'Darebin'\n",
    "    # )\n",
    "    .with_columns(\n",
    "        (\n",
    "        pl.when(pl.col(\"Incidents Recorded 2024\")>10) # do not record pcp change if sample is under 10\n",
    "        .then(\n",
    "            ((pl.col(\"Incidents Recorded 2025\")/pl.col(\"Incidents Recorded 2024\")) - 1)*100)\n",
    "        .otherwise(0)\n",
    "        )\n",
    "        .alias(\"% change\")\n",
    "    )\n",
    "    .with_columns(\n",
    "        (\n",
    "        pl.col(\"Incidents Recorded 2025\")-pl.col(\"Incidents Recorded 2024\")\n",
    "    ).alias(\"# change\")\n",
    "    )\n",
    "    .sort(\"Incidents Recorded 2024\", descending=True)\n",
    ")"
   ]
  },
  {
   "cell_type": "code",
   "execution_count": 16,
   "metadata": {},
   "outputs": [
    {
     "data": {
      "text/html": [
       "<div><style>\n",
       ".dataframe > thead > tr,\n",
       ".dataframe > tbody > tr {\n",
       "  text-align: right;\n",
       "  white-space: pre-wrap;\n",
       "}\n",
       "</style>\n",
       "<small>shape: (17, 8)</small><table border=\"1\" class=\"dataframe\"><thead><tr><th>Region</th><th>Suburb/Town Name</th><th>Offence Division</th><th>Offence Subdivision</th><th>Incidents Recorded 2024</th><th>Incidents Recorded 2025</th><th>% change</th><th># change</th></tr><tr><td>str</td><td>str</td><td>str</td><td>str</td><td>i64</td><td>i64</td><td>f64</td><td>i64</td></tr></thead><tbody><tr><td>&quot;Metro Inner East&quot;</td><td>&quot;Templestowe&quot;</td><td>&quot;B Property and deception offences&quot;</td><td>&quot;B40 Theft&quot;</td><td>133</td><td>133</td><td>0.0</td><td>0</td></tr><tr><td>&quot;Metro Inner East&quot;</td><td>&quot;Templestowe&quot;</td><td>&quot;B Property and deception offences&quot;</td><td>&quot;B30 Burglary/Break and enter&quot;</td><td>107</td><td>90</td><td>-15.88785</td><td>-17</td></tr><tr><td>&quot;Metro Inner East&quot;</td><td>&quot;Templestowe&quot;</td><td>&quot;A Crimes against the person&quot;</td><td>&quot;A20 Assault and related offences&quot;</td><td>34</td><td>31</td><td>-8.823529</td><td>-3</td></tr><tr><td>&quot;Metro Inner East&quot;</td><td>&quot;Templestowe&quot;</td><td>&quot;B Property and deception offences&quot;</td><td>&quot;B20 Property damage&quot;</td><td>27</td><td>25</td><td>-7.407407</td><td>-2</td></tr><tr><td>&quot;Metro Inner East&quot;</td><td>&quot;Templestowe&quot;</td><td>&quot;B Property and deception offences&quot;</td><td>&quot;B50 Deception&quot;</td><td>26</td><td>21</td><td>-19.230769</td><td>-5</td></tr><tr><td>&quot;Metro Inner East&quot;</td><td>&quot;Templestowe&quot;</td><td>&quot;E Justice procedures offences&quot;</td><td>&quot;E20 Breaches of orders&quot;</td><td>24</td><td>36</td><td>50.0</td><td>12</td></tr><tr><td>&quot;Metro Inner East&quot;</td><td>&quot;Templestowe&quot;</td><td>&quot;A Crimes against the person&quot;</td><td>&quot;Other crimes against the person&quot;</td><td>17</td><td>11</td><td>-35.294118</td><td>-6</td></tr><tr><td>&quot;Metro Inner East&quot;</td><td>&quot;Templestowe&quot;</td><td>&quot;C Drug offences&quot;</td><td>&quot;C30 Drug use and possession&quot;</td><td>9</td><td>3</td><td>0.0</td><td>-6</td></tr><tr><td>&quot;Metro Inner East&quot;</td><td>&quot;Templestowe&quot;</td><td>&quot;A Crimes against the person&quot;</td><td>&quot;A70 Stalking, harassment and threatening behaviour&quot;</td><td>9</td><td>7</td><td>0.0</td><td>-2</td></tr><tr><td>&quot;Metro Inner East&quot;</td><td>&quot;Templestowe&quot;</td><td>&quot;E Justice procedures offences&quot;</td><td>&quot;E10 Justice procedures&quot;</td><td>6</td><td>7</td><td>0.0</td><td>1</td></tr><tr><td>&quot;Metro Inner East&quot;</td><td>&quot;Templestowe&quot;</td><td>&quot;D Public order and security offences&quot;</td><td>&quot;D10 Weapons and explosives offences&quot;</td><td>5</td><td>5</td><td>0.0</td><td>0</td></tr><tr><td>&quot;Metro Inner East&quot;</td><td>&quot;Templestowe&quot;</td><td>&quot;C Drug offences&quot;</td><td>&quot;C10 Drug dealing and trafficking&quot;</td><td>3</td><td>null</td><td>0.0</td><td>null</td></tr><tr><td>&quot;Metro Inner East&quot;</td><td>&quot;Templestowe&quot;</td><td>&quot;A Crimes against the person&quot;</td><td>&quot;A50 Robbery&quot;</td><td>2</td><td>2</td><td>0.0</td><td>0</td></tr><tr><td>&quot;Metro Inner East&quot;</td><td>&quot;Templestowe&quot;</td><td>&quot;D Public order and security offences&quot;</td><td>&quot;D30 Public nuisance offences&quot;</td><td>2</td><td>2</td><td>0.0</td><td>0</td></tr><tr><td>&quot;Metro Inner East&quot;</td><td>&quot;Templestowe&quot;</td><td>&quot;A Crimes against the person&quot;</td><td>&quot;A80 Dangerous and negligent acts endangering peopl…</td><td>2</td><td>5</td><td>0.0</td><td>3</td></tr><tr><td>&quot;Metro Inner East&quot;</td><td>&quot;Templestowe&quot;</td><td>&quot;B Property and deception offences&quot;</td><td>&quot;B10 Arson&quot;</td><td>1</td><td>2</td><td>0.0</td><td>1</td></tr><tr><td>&quot;Metro Inner East&quot;</td><td>&quot;Templestowe&quot;</td><td>&quot;C Drug offences&quot;</td><td>&quot;C20 Cultivate or manufacture drugs&quot;</td><td>1</td><td>4</td><td>0.0</td><td>3</td></tr></tbody></table></div>"
      ],
      "text/plain": [
       "shape: (17, 8)\n",
       "┌────────┬─────────────┬────────────┬────────────┬────────────┬────────────┬────────────┬──────────┐\n",
       "│ Region ┆ Suburb/Town ┆ Offence    ┆ Offence    ┆ Incidents  ┆ Incidents  ┆ % change   ┆ # change │\n",
       "│ ---    ┆ Name        ┆ Division   ┆ Subdivisio ┆ Recorded   ┆ Recorded   ┆ ---        ┆ ---      │\n",
       "│ str    ┆ ---         ┆ ---        ┆ n          ┆ 2024       ┆ 2025       ┆ f64        ┆ i64      │\n",
       "│        ┆ str         ┆ str        ┆ ---        ┆ ---        ┆ ---        ┆            ┆          │\n",
       "│        ┆             ┆            ┆ str        ┆ i64        ┆ i64        ┆            ┆          │\n",
       "╞════════╪═════════════╪════════════╪════════════╪════════════╪════════════╪════════════╪══════════╡\n",
       "│ Metro  ┆ Templestowe ┆ B Property ┆ B40 Theft  ┆ 133        ┆ 133        ┆ 0.0        ┆ 0        │\n",
       "│ Inner  ┆             ┆ and        ┆            ┆            ┆            ┆            ┆          │\n",
       "│ East   ┆             ┆ deception  ┆            ┆            ┆            ┆            ┆          │\n",
       "│        ┆             ┆ offences   ┆            ┆            ┆            ┆            ┆          │\n",
       "│ Metro  ┆ Templestowe ┆ B Property ┆ B30 Burgla ┆ 107        ┆ 90         ┆ -15.88785  ┆ -17      │\n",
       "│ Inner  ┆             ┆ and        ┆ ry/Break   ┆            ┆            ┆            ┆          │\n",
       "│ East   ┆             ┆ deception  ┆ and enter  ┆            ┆            ┆            ┆          │\n",
       "│        ┆             ┆ offences   ┆            ┆            ┆            ┆            ┆          │\n",
       "│ Metro  ┆ Templestowe ┆ A Crimes   ┆ A20        ┆ 34         ┆ 31         ┆ -8.823529  ┆ -3       │\n",
       "│ Inner  ┆             ┆ against    ┆ Assault    ┆            ┆            ┆            ┆          │\n",
       "│ East   ┆             ┆ the person ┆ and        ┆            ┆            ┆            ┆          │\n",
       "│        ┆             ┆            ┆ related    ┆            ┆            ┆            ┆          │\n",
       "│        ┆             ┆            ┆ offences   ┆            ┆            ┆            ┆          │\n",
       "│ Metro  ┆ Templestowe ┆ B Property ┆ B20        ┆ 27         ┆ 25         ┆ -7.407407  ┆ -2       │\n",
       "│ Inner  ┆             ┆ and        ┆ Property   ┆            ┆            ┆            ┆          │\n",
       "│ East   ┆             ┆ deception  ┆ damage     ┆            ┆            ┆            ┆          │\n",
       "│        ┆             ┆ offences   ┆            ┆            ┆            ┆            ┆          │\n",
       "│ Metro  ┆ Templestowe ┆ B Property ┆ B50        ┆ 26         ┆ 21         ┆ -19.230769 ┆ -5       │\n",
       "│ Inner  ┆             ┆ and        ┆ Deception  ┆            ┆            ┆            ┆          │\n",
       "│ East   ┆             ┆ deception  ┆            ┆            ┆            ┆            ┆          │\n",
       "│        ┆             ┆ offences   ┆            ┆            ┆            ┆            ┆          │\n",
       "│ Metro  ┆ Templestowe ┆ E Justice  ┆ E20        ┆ 24         ┆ 36         ┆ 50.0       ┆ 12       │\n",
       "│ Inner  ┆             ┆ procedures ┆ Breaches   ┆            ┆            ┆            ┆          │\n",
       "│ East   ┆             ┆ offences   ┆ of orders  ┆            ┆            ┆            ┆          │\n",
       "│ Metro  ┆ Templestowe ┆ A Crimes   ┆ Other      ┆ 17         ┆ 11         ┆ -35.294118 ┆ -6       │\n",
       "│ Inner  ┆             ┆ against    ┆ crimes     ┆            ┆            ┆            ┆          │\n",
       "│ East   ┆             ┆ the person ┆ against    ┆            ┆            ┆            ┆          │\n",
       "│        ┆             ┆            ┆ the person ┆            ┆            ┆            ┆          │\n",
       "│ Metro  ┆ Templestowe ┆ C Drug     ┆ C30 Drug   ┆ 9          ┆ 3          ┆ 0.0        ┆ -6       │\n",
       "│ Inner  ┆             ┆ offences   ┆ use and    ┆            ┆            ┆            ┆          │\n",
       "│ East   ┆             ┆            ┆ possession ┆            ┆            ┆            ┆          │\n",
       "│ Metro  ┆ Templestowe ┆ A Crimes   ┆ A70        ┆ 9          ┆ 7          ┆ 0.0        ┆ -2       │\n",
       "│ Inner  ┆             ┆ against    ┆ Stalking,  ┆            ┆            ┆            ┆          │\n",
       "│ East   ┆             ┆ the person ┆ harassment ┆            ┆            ┆            ┆          │\n",
       "│        ┆             ┆            ┆ and threat ┆            ┆            ┆            ┆          │\n",
       "│        ┆             ┆            ┆ ening      ┆            ┆            ┆            ┆          │\n",
       "│        ┆             ┆            ┆ behaviour  ┆            ┆            ┆            ┆          │\n",
       "│ Metro  ┆ Templestowe ┆ E Justice  ┆ E10        ┆ 6          ┆ 7          ┆ 0.0        ┆ 1        │\n",
       "│ Inner  ┆             ┆ procedures ┆ Justice    ┆            ┆            ┆            ┆          │\n",
       "│ East   ┆             ┆ offences   ┆ procedures ┆            ┆            ┆            ┆          │\n",
       "│ Metro  ┆ Templestowe ┆ D Public   ┆ D10        ┆ 5          ┆ 5          ┆ 0.0        ┆ 0        │\n",
       "│ Inner  ┆             ┆ order and  ┆ Weapons    ┆            ┆            ┆            ┆          │\n",
       "│ East   ┆             ┆ security   ┆ and        ┆            ┆            ┆            ┆          │\n",
       "│        ┆             ┆ offences   ┆ explosives ┆            ┆            ┆            ┆          │\n",
       "│        ┆             ┆            ┆ offences   ┆            ┆            ┆            ┆          │\n",
       "│ Metro  ┆ Templestowe ┆ C Drug     ┆ C10 Drug   ┆ 3          ┆ null       ┆ 0.0        ┆ null     │\n",
       "│ Inner  ┆             ┆ offences   ┆ dealing    ┆            ┆            ┆            ┆          │\n",
       "│ East   ┆             ┆            ┆ and traffi ┆            ┆            ┆            ┆          │\n",
       "│        ┆             ┆            ┆ cking      ┆            ┆            ┆            ┆          │\n",
       "│ Metro  ┆ Templestowe ┆ A Crimes   ┆ A50        ┆ 2          ┆ 2          ┆ 0.0        ┆ 0        │\n",
       "│ Inner  ┆             ┆ against    ┆ Robbery    ┆            ┆            ┆            ┆          │\n",
       "│ East   ┆             ┆ the person ┆            ┆            ┆            ┆            ┆          │\n",
       "│ Metro  ┆ Templestowe ┆ D Public   ┆ D30 Public ┆ 2          ┆ 2          ┆ 0.0        ┆ 0        │\n",
       "│ Inner  ┆             ┆ order and  ┆ nuisance   ┆            ┆            ┆            ┆          │\n",
       "│ East   ┆             ┆ security   ┆ offences   ┆            ┆            ┆            ┆          │\n",
       "│        ┆             ┆ offences   ┆            ┆            ┆            ┆            ┆          │\n",
       "│ Metro  ┆ Templestowe ┆ A Crimes   ┆ A80        ┆ 2          ┆ 5          ┆ 0.0        ┆ 3        │\n",
       "│ Inner  ┆             ┆ against    ┆ Dangerous  ┆            ┆            ┆            ┆          │\n",
       "│ East   ┆             ┆ the person ┆ and        ┆            ┆            ┆            ┆          │\n",
       "│        ┆             ┆            ┆ negligent  ┆            ┆            ┆            ┆          │\n",
       "│        ┆             ┆            ┆ acts endan ┆            ┆            ┆            ┆          │\n",
       "│        ┆             ┆            ┆ gering     ┆            ┆            ┆            ┆          │\n",
       "│        ┆             ┆            ┆ peopl…     ┆            ┆            ┆            ┆          │\n",
       "│ Metro  ┆ Templestowe ┆ B Property ┆ B10 Arson  ┆ 1          ┆ 2          ┆ 0.0        ┆ 1        │\n",
       "│ Inner  ┆             ┆ and        ┆            ┆            ┆            ┆            ┆          │\n",
       "│ East   ┆             ┆ deception  ┆            ┆            ┆            ┆            ┆          │\n",
       "│        ┆             ┆ offences   ┆            ┆            ┆            ┆            ┆          │\n",
       "│ Metro  ┆ Templestowe ┆ C Drug     ┆ C20        ┆ 1          ┆ 4          ┆ 0.0        ┆ 3        │\n",
       "│ Inner  ┆             ┆ offences   ┆ Cultivate  ┆            ┆            ┆            ┆          │\n",
       "│ East   ┆             ┆            ┆ or manufac ┆            ┆            ┆            ┆          │\n",
       "│        ┆             ┆            ┆ ture drugs ┆            ┆            ┆            ┆          │\n",
       "└────────┴─────────────┴────────────┴────────────┴────────────┴────────────┴────────────┴──────────┘"
      ]
     },
     "execution_count": 16,
     "metadata": {},
     "output_type": "execute_result"
    }
   ],
   "source": [
    "(\n",
    "    df_crime\n",
    "    .filter(\n",
    "        pl.col('Suburb/Town Name') == 'Templestowe'\n",
    "    )\n",
    ")"
   ]
  },
  {
   "cell_type": "code",
   "execution_count": 17,
   "metadata": {},
   "outputs": [],
   "source": [
    "df_crime.write_csv(\"data/df_crime_suburb.csv\")"
   ]
  },
  {
   "cell_type": "code",
   "execution_count": 99,
   "metadata": {},
   "outputs": [
    {
     "data": {
      "text/html": [
       "<div><style>\n",
       ".dataframe > thead > tr,\n",
       ".dataframe > tbody > tr {\n",
       "  text-align: right;\n",
       "  white-space: pre-wrap;\n",
       "}\n",
       "</style>\n",
       "<small>shape: (30, 2)</small><table border=\"1\" class=\"dataframe\"><thead><tr><th>Suburb/Town Name</th><th>Incidents Recorded 2025</th></tr><tr><td>str</td><td>i64</td></tr></thead><tbody><tr><td>&quot;Alphington&quot;</td><td>420</td></tr><tr><td>&quot;Bellfield&quot;</td><td>221</td></tr><tr><td>&quot;Brunswick&quot;</td><td>2583</td></tr><tr><td>&quot;Brunswick East&quot;</td><td>1033</td></tr><tr><td>&quot;Brunswick West&quot;</td><td>970</td></tr><tr><td>&quot;Bundoora&quot;</td><td>2320</td></tr><tr><td>&quot;Coburg&quot;</td><td>2257</td></tr><tr><td>&quot;Coburg North&quot;</td><td>1018</td></tr><tr><td>&quot;Fawkner&quot;</td><td>889</td></tr><tr><td>&quot;Glenroy&quot;</td><td>1789</td></tr><tr><td>&hellip;</td><td>&hellip;</td></tr><tr><td>&quot;Northcote&quot;</td><td>1691</td></tr><tr><td>&quot;Oak Park&quot;</td><td>270</td></tr><tr><td>&quot;Pascoe Vale&quot;</td><td>762</td></tr><tr><td>&quot;Pascoe Vale South&quot;</td><td>430</td></tr><tr><td>&quot;Preston&quot;</td><td>5582</td></tr><tr><td>&quot;Reservoir&quot;</td><td>4640</td></tr><tr><td>&quot;Rosanna&quot;</td><td>254</td></tr><tr><td>&quot;St Helena&quot;</td><td>50</td></tr><tr><td>&quot;Thornbury&quot;</td><td>1491</td></tr><tr><td>&quot;Watsonia&quot;</td><td>350</td></tr></tbody></table></div>"
      ],
      "text/plain": [
       "shape: (30, 2)\n",
       "┌───────────────────┬─────────────────────────┐\n",
       "│ Suburb/Town Name  ┆ Incidents Recorded 2025 │\n",
       "│ ---               ┆ ---                     │\n",
       "│ str               ┆ i64                     │\n",
       "╞═══════════════════╪═════════════════════════╡\n",
       "│ Alphington        ┆ 420                     │\n",
       "│ Bellfield         ┆ 221                     │\n",
       "│ Brunswick         ┆ 2583                    │\n",
       "│ Brunswick East    ┆ 1033                    │\n",
       "│ Brunswick West    ┆ 970                     │\n",
       "│ Bundoora          ┆ 2320                    │\n",
       "│ Coburg            ┆ 2257                    │\n",
       "│ Coburg North      ┆ 1018                    │\n",
       "│ Fawkner           ┆ 889                     │\n",
       "│ Glenroy           ┆ 1789                    │\n",
       "│ …                 ┆ …                       │\n",
       "│ Northcote         ┆ 1691                    │\n",
       "│ Oak Park          ┆ 270                     │\n",
       "│ Pascoe Vale       ┆ 762                     │\n",
       "│ Pascoe Vale South ┆ 430                     │\n",
       "│ Preston           ┆ 5582                    │\n",
       "│ Reservoir         ┆ 4640                    │\n",
       "│ Rosanna           ┆ 254                     │\n",
       "│ St Helena         ┆ 50                      │\n",
       "│ Thornbury         ┆ 1491                    │\n",
       "│ Watsonia          ┆ 350                     │\n",
       "└───────────────────┴─────────────────────────┘"
      ]
     },
     "execution_count": 99,
     "metadata": {},
     "output_type": "execute_result"
    }
   ],
   "source": [
    "df_crime.filter(pl.col(\"Region\") == sel_region).group_by('Suburb/Town Name').agg(pl.sum(\"Incidents Recorded 2025\")).sort(descending=False, by='Suburb/Town Name')"
   ]
  },
  {
   "cell_type": "code",
   "execution_count": 84,
   "metadata": {},
   "outputs": [
    {
     "data": {
      "text/plain": [
       "'Metro Inner North'"
      ]
     },
     "execution_count": 84,
     "metadata": {},
     "output_type": "execute_result"
    }
   ],
   "source": [
    "df_crime.filter(pl.col(\"Suburb/Town Name\") == selected_category).select(['Region']).head(1).item()"
   ]
  },
  {
   "cell_type": "code",
   "execution_count": 7,
   "metadata": {},
   "outputs": [],
   "source": [
    "df_map = pl.read_csv(\"data/vic_mapping.csv\")\n",
    "df_crime = pl.read_csv(\"data/df_crime_suburb.csv\")"
   ]
  },
  {
   "cell_type": "code",
   "execution_count": 16,
   "metadata": {},
   "outputs": [
    {
     "data": {
      "text/plain": [
       "['Region',\n",
       " 'Suburb/Town Name',\n",
       " 'Offence Division',\n",
       " 'Offence Subdivision',\n",
       " 'Incidents Recorded 2024',\n",
       " 'Incidents Recorded 2025',\n",
       " '% change',\n",
       " '# change']"
      ]
     },
     "execution_count": 16,
     "metadata": {},
     "output_type": "execute_result"
    }
   ],
   "source": [
    "df_crime.columns"
   ]
  },
  {
   "cell_type": "code",
   "execution_count": 54,
   "metadata": {},
   "outputs": [
    {
     "data": {
      "text/html": [
       "<div><style>\n",
       ".dataframe > thead > tr,\n",
       ".dataframe > tbody > tr {\n",
       "  text-align: right;\n",
       "  white-space: pre-wrap;\n",
       "}\n",
       "</style>\n",
       "<small>shape: (5, 5)</small><table border=\"1\" class=\"dataframe\"><thead><tr><th>Offence Division</th><th>Bulleen Incidents</th><th>Metro Inner East Incidents Avg</th><th>Bulleen Incident Change</th><th>Metro Inner East Incident Avg Change</th></tr><tr><td>str</td><td>i64</td><td>i64</td><td>i64</td><td>i64</td></tr></thead><tbody><tr><td>&quot;Crimes against the person&quot;</td><td>58</td><td>21</td><td>-14</td><td>1</td></tr><tr><td>&quot;Drug offences&quot;</td><td>7</td><td>10</td><td>3</td><td>0</td></tr><tr><td>&quot;Justice procedures offences&quot;</td><td>25</td><td>29</td><td>-17</td><td>-7</td></tr><tr><td>&quot;Property and deception offence…</td><td>341</td><td>125</td><td>104</td><td>30</td></tr><tr><td>&quot;Public order and security offe…</td><td>4</td><td>8</td><td>1</td><td>0</td></tr></tbody></table></div>"
      ],
      "text/plain": [
       "shape: (5, 5)\n",
       "┌─────────────────────┬───────────┬─────────────────────┬─────────────────────┬────────────────────┐\n",
       "│ Offence Division    ┆ Bulleen   ┆ Metro Inner East    ┆ Bulleen Incident    ┆ Metro Inner East   │\n",
       "│ ---                 ┆ Incidents ┆ Incidents Avg       ┆ Change              ┆ Incident Avg …     │\n",
       "│ str                 ┆ ---       ┆ ---                 ┆ ---                 ┆ ---                │\n",
       "│                     ┆ i64       ┆ i64                 ┆ i64                 ┆ i64                │\n",
       "╞═════════════════════╪═══════════╪═════════════════════╪═════════════════════╪════════════════════╡\n",
       "│ Crimes against the  ┆ 58        ┆ 21                  ┆ -14                 ┆ 1                  │\n",
       "│ person              ┆           ┆                     ┆                     ┆                    │\n",
       "│ Drug offences       ┆ 7         ┆ 10                  ┆ 3                   ┆ 0                  │\n",
       "│ Justice procedures  ┆ 25        ┆ 29                  ┆ -17                 ┆ -7                 │\n",
       "│ offences            ┆           ┆                     ┆                     ┆                    │\n",
       "│ Property and        ┆ 341       ┆ 125                 ┆ 104                 ┆ 30                 │\n",
       "│ deception offence…  ┆           ┆                     ┆                     ┆                    │\n",
       "│ Public order and    ┆ 4         ┆ 8                   ┆ 1                   ┆ 0                  │\n",
       "│ security offe…      ┆           ┆                     ┆                     ┆                    │\n",
       "└─────────────────────┴───────────┴─────────────────────┴─────────────────────┴────────────────────┘"
      ]
     },
     "execution_count": 54,
     "metadata": {},
     "output_type": "execute_result"
    }
   ],
   "source": [
    "sel_suburb = 'Bulleen'\n",
    "sel_region = 'Metro Inner East'\n",
    "\n",
    "df_crime_summary_stg=(\n",
    "    df_crime\n",
    "        .filter(pl.col('Suburb/Town Name')==sel_suburb)\n",
    "        .with_columns(pl.col(\"Offence Division\").str.slice(2))\n",
    "        .group_by(['Offence Division'])\n",
    "        .agg([\n",
    "            pl.sum(\"Incidents Recorded 2025\").alias(sel_suburb + ' Incidents')\n",
    "            ,pl.sum(\"# change\").alias(sel_suburb + ' Incident Change')\n",
    "        ]\n",
    "        )\n",
    "        .sort(by='Offence Division',descending=False)\n",
    ").join(\n",
    "        (\n",
    "        df_crime\n",
    "            .filter(pl.col('Region')==sel_region)\n",
    "            .with_columns(pl.col(\"Offence Division\").str.slice(2))\n",
    "            .group_by(['Offence Division'])\n",
    "            .agg([\n",
    "                pl.mean(\"Incidents Recorded 2025\").alias(sel_region + ' Incidents Avg')\n",
    "                ,pl.mean(\"# change\").alias(sel_region + ' Incident Avg Change')\n",
    "            ]\n",
    "            )\n",
    "            .with_columns(pl.col(sel_region + ' Incidents Avg').cast(pl.Int64))\n",
    "            .with_columns(pl.col(sel_region + ' Incident Avg Change').cast(pl.Int64))\n",
    "            .sort(by='Offence Division',descending=False)\n",
    "    ),\n",
    "    on='Offence Division',\n",
    "    how='left'\n",
    ")\n",
    "\n",
    "df_crime_summary_stg.select([df_crime_summary_stg.columns[0],df_crime_summary_stg.columns[1],\n",
    "                  df_crime_summary_stg.columns[3],df_crime_summary_stg.columns[2],\n",
    "                  df_crime_summary_stg.columns[4]])"
   ]
  },
  {
   "cell_type": "code",
   "execution_count": null,
   "metadata": {},
   "outputs": [
    {
     "data": {
      "text/html": [
       "<div><style>\n",
       ".dataframe > thead > tr,\n",
       ".dataframe > tbody > tr {\n",
       "  text-align: right;\n",
       "  white-space: pre-wrap;\n",
       "}\n",
       "</style>\n",
       "<small>shape: (6, 3)</small><table border=\"1\" class=\"dataframe\"><thead><tr><th>Offence Division</th><th>Metro Inner East Incidents Avg</th><th>Metro Inner East Incident Avg Change</th></tr><tr><td>str</td><td>f64</td><td>f64</td></tr></thead><tbody><tr><td>&quot;Crimes against the person&quot;</td><td>21.7</td><td>1.7</td></tr><tr><td>&quot;Drug offences&quot;</td><td>10.4</td><td>0.4</td></tr><tr><td>&quot;Justice procedures offences&quot;</td><td>29.2</td><td>-7.8</td></tr><tr><td>&quot;Other offences&quot;</td><td>1.1</td><td>-0.8</td></tr><tr><td>&quot;Property and deception offence…</td><td>125.5</td><td>30.4</td></tr><tr><td>&quot;Public order and security offe…</td><td>8.2</td><td>0.0</td></tr></tbody></table></div>"
      ],
      "text/plain": [
       "shape: (6, 3)\n",
       "┌─────────────────────────────┬────────────────────────────────┬───────────────────────────────────┐\n",
       "│ Offence Division            ┆ Metro Inner East Incidents Avg ┆ Metro Inner East Incident Avg …   │\n",
       "│ ---                         ┆ ---                            ┆ ---                               │\n",
       "│ str                         ┆ f64                            ┆ f64                               │\n",
       "╞═════════════════════════════╪════════════════════════════════╪═══════════════════════════════════╡\n",
       "│ Crimes against the person   ┆ 21.7                           ┆ 1.7                               │\n",
       "│ Drug offences               ┆ 10.4                           ┆ 0.4                               │\n",
       "│ Justice procedures offences ┆ 29.2                           ┆ -7.8                              │\n",
       "│ Other offences              ┆ 1.1                            ┆ -0.8                              │\n",
       "│ Property and deception      ┆ 125.5                          ┆ 30.4                              │\n",
       "│ offence…                    ┆                                ┆                                   │\n",
       "│ Public order and security   ┆ 8.2                            ┆ 0.0                               │\n",
       "│ offe…                       ┆                                ┆                                   │\n",
       "└─────────────────────────────┴────────────────────────────────┴───────────────────────────────────┘"
      ]
     },
     "execution_count": 43,
     "metadata": {},
     "output_type": "execute_result"
    }
   ],
   "source": [
    "(\n",
    "    df_crime\n",
    "        .filter(pl.col('Region')==sel_region)\n",
    "        .with_columns(pl.col(\"Offence Division\").str.slice(2))\n",
    "        .group_by(['Offence Division'])\n",
    "        .agg([\n",
    "            pl.mean(\"Incidents Recorded 2025\").alias(sel_region + ' Incidents Avg')\n",
    "            ,pl.mean(\"# change\").alias(sel_region + ' Incident Avg Change')\n",
    "        ]\n",
    "        )\n",
    "        .with_columns(pl.col(sel_region + ' Incidents Avg').round(1))\n",
    "        .with_columns(pl.col(sel_region + ' Incident Avg Change').round(1))\n",
    "        .sort(by='Offence Division',descending=False)\n",
    ")"
   ]
  },
  {
   "cell_type": "code",
   "execution_count": 36,
   "metadata": {},
   "outputs": [
    {
     "data": {
      "text/html": [
       "<div><style>\n",
       ".dataframe > thead > tr,\n",
       ".dataframe > tbody > tr {\n",
       "  text-align: right;\n",
       "  white-space: pre-wrap;\n",
       "}\n",
       "</style>\n",
       "<small>shape: (8_407, 8)</small><table border=\"1\" class=\"dataframe\"><thead><tr><th>Region</th><th>Suburb/Town Name</th><th>Offence Division</th><th>Offence Subdivision</th><th>Incidents Recorded 2024</th><th>Incidents Recorded 2025</th><th>% change</th><th># change</th></tr><tr><td>str</td><td>str</td><td>str</td><td>str</td><td>i64</td><td>i64</td><td>f64</td><td>i64</td></tr></thead><tbody><tr><td>&quot;Metro Inner&quot;</td><td>&quot;Melbourne CBD&quot;</td><td>&quot;B Property and deception offen…</td><td>&quot;B40 Theft&quot;</td><td>6062</td><td>9306</td><td>53.513692</td><td>3244</td></tr><tr><td>&quot;Metro Inner&quot;</td><td>&quot;Melbourne CBD&quot;</td><td>&quot;E Justice procedures offences&quot;</td><td>&quot;E20 Breaches of orders&quot;</td><td>2202</td><td>1478</td><td>-32.879201</td><td>-724</td></tr><tr><td>&quot;Other&quot;</td><td>&quot;Dandenong&quot;</td><td>&quot;B Property and deception offen…</td><td>&quot;B40 Theft&quot;</td><td>1913</td><td>2865</td><td>49.764767</td><td>952</td></tr><tr><td>&quot;Metro Inner&quot;</td><td>&quot;Melbourne CBD&quot;</td><td>&quot;A Crimes against the person&quot;</td><td>&quot;A20 Assault and related offenc…</td><td>1816</td><td>2105</td><td>15.914097</td><td>289</td></tr><tr><td>&quot;Metro Inner North&quot;</td><td>&quot;Preston&quot;</td><td>&quot;B Property and deception offen…</td><td>&quot;B40 Theft&quot;</td><td>1767</td><td>3006</td><td>70.118846</td><td>1239</td></tr><tr><td>&hellip;</td><td>&hellip;</td><td>&hellip;</td><td>&hellip;</td><td>&hellip;</td><td>&hellip;</td><td>&hellip;</td><td>&hellip;</td></tr><tr><td>&quot;Metro Outer North&quot;</td><td>&quot;Donnybrook&quot;</td><td>&quot;C Drug offences&quot;</td><td>&quot;C20 Cultivate or manufacture d…</td><td>1</td><td>null</td><td>null</td><td>null</td></tr><tr><td>&quot;Other&quot;</td><td>&quot;Kennington&quot;</td><td>&quot;A Crimes against the person&quot;</td><td>&quot;A70 Stalking, harassment and t…</td><td>1</td><td>6</td><td>null</td><td>5</td></tr><tr><td>&quot;Other&quot;</td><td>&quot;Tatura&quot;</td><td>&quot;B Property and deception offen…</td><td>&quot;B50 Deception&quot;</td><td>1</td><td>4</td><td>null</td><td>3</td></tr><tr><td>&quot;Other&quot;</td><td>&quot;Waurn Ponds&quot;</td><td>&quot;A Crimes against the person&quot;</td><td>&quot;A80 Dangerous and negligent ac…</td><td>1</td><td>2</td><td>null</td><td>1</td></tr><tr><td>&quot;Other&quot;</td><td>&quot;Campbells Creek&quot;</td><td>&quot;C Drug offences&quot;</td><td>&quot;C30 Drug use and possession&quot;</td><td>1</td><td>4</td><td>null</td><td>3</td></tr></tbody></table></div>"
      ],
      "text/plain": [
       "shape: (8_407, 8)\n",
       "┌────────┬─────────────┬────────────┬────────────┬────────────┬────────────┬────────────┬──────────┐\n",
       "│ Region ┆ Suburb/Town ┆ Offence    ┆ Offence    ┆ Incidents  ┆ Incidents  ┆ % change   ┆ # change │\n",
       "│ ---    ┆ Name        ┆ Division   ┆ Subdivisio ┆ Recorded   ┆ Recorded   ┆ ---        ┆ ---      │\n",
       "│ str    ┆ ---         ┆ ---        ┆ n          ┆ 2024       ┆ 2025       ┆ f64        ┆ i64      │\n",
       "│        ┆ str         ┆ str        ┆ ---        ┆ ---        ┆ ---        ┆            ┆          │\n",
       "│        ┆             ┆            ┆ str        ┆ i64        ┆ i64        ┆            ┆          │\n",
       "╞════════╪═════════════╪════════════╪════════════╪════════════╪════════════╪════════════╪══════════╡\n",
       "│ Metro  ┆ Melbourne   ┆ B Property ┆ B40 Theft  ┆ 6062       ┆ 9306       ┆ 53.513692  ┆ 3244     │\n",
       "│ Inner  ┆ CBD         ┆ and        ┆            ┆            ┆            ┆            ┆          │\n",
       "│        ┆             ┆ deception  ┆            ┆            ┆            ┆            ┆          │\n",
       "│        ┆             ┆ offen…     ┆            ┆            ┆            ┆            ┆          │\n",
       "│ Metro  ┆ Melbourne   ┆ E Justice  ┆ E20        ┆ 2202       ┆ 1478       ┆ -32.879201 ┆ -724     │\n",
       "│ Inner  ┆ CBD         ┆ procedures ┆ Breaches   ┆            ┆            ┆            ┆          │\n",
       "│        ┆             ┆ offences   ┆ of orders  ┆            ┆            ┆            ┆          │\n",
       "│ Other  ┆ Dandenong   ┆ B Property ┆ B40 Theft  ┆ 1913       ┆ 2865       ┆ 49.764767  ┆ 952      │\n",
       "│        ┆             ┆ and        ┆            ┆            ┆            ┆            ┆          │\n",
       "│        ┆             ┆ deception  ┆            ┆            ┆            ┆            ┆          │\n",
       "│        ┆             ┆ offen…     ┆            ┆            ┆            ┆            ┆          │\n",
       "│ Metro  ┆ Melbourne   ┆ A Crimes   ┆ A20        ┆ 1816       ┆ 2105       ┆ 15.914097  ┆ 289      │\n",
       "│ Inner  ┆ CBD         ┆ against    ┆ Assault    ┆            ┆            ┆            ┆          │\n",
       "│        ┆             ┆ the person ┆ and        ┆            ┆            ┆            ┆          │\n",
       "│        ┆             ┆            ┆ related    ┆            ┆            ┆            ┆          │\n",
       "│        ┆             ┆            ┆ offenc…    ┆            ┆            ┆            ┆          │\n",
       "│ Metro  ┆ Preston     ┆ B Property ┆ B40 Theft  ┆ 1767       ┆ 3006       ┆ 70.118846  ┆ 1239     │\n",
       "│ Inner  ┆             ┆ and        ┆            ┆            ┆            ┆            ┆          │\n",
       "│ North  ┆             ┆ deception  ┆            ┆            ┆            ┆            ┆          │\n",
       "│        ┆             ┆ offen…     ┆            ┆            ┆            ┆            ┆          │\n",
       "│ …      ┆ …           ┆ …          ┆ …          ┆ …          ┆ …          ┆ …          ┆ …        │\n",
       "│ Metro  ┆ Donnybrook  ┆ C Drug     ┆ C20        ┆ 1          ┆ null       ┆ null       ┆ null     │\n",
       "│ Outer  ┆             ┆ offences   ┆ Cultivate  ┆            ┆            ┆            ┆          │\n",
       "│ North  ┆             ┆            ┆ or manufac ┆            ┆            ┆            ┆          │\n",
       "│        ┆             ┆            ┆ ture d…    ┆            ┆            ┆            ┆          │\n",
       "│ Other  ┆ Kennington  ┆ A Crimes   ┆ A70        ┆ 1          ┆ 6          ┆ null       ┆ 5        │\n",
       "│        ┆             ┆ against    ┆ Stalking,  ┆            ┆            ┆            ┆          │\n",
       "│        ┆             ┆ the person ┆ harassment ┆            ┆            ┆            ┆          │\n",
       "│        ┆             ┆            ┆ and t…     ┆            ┆            ┆            ┆          │\n",
       "│ Other  ┆ Tatura      ┆ B Property ┆ B50        ┆ 1          ┆ 4          ┆ null       ┆ 3        │\n",
       "│        ┆             ┆ and        ┆ Deception  ┆            ┆            ┆            ┆          │\n",
       "│        ┆             ┆ deception  ┆            ┆            ┆            ┆            ┆          │\n",
       "│        ┆             ┆ offen…     ┆            ┆            ┆            ┆            ┆          │\n",
       "│ Other  ┆ Waurn Ponds ┆ A Crimes   ┆ A80        ┆ 1          ┆ 2          ┆ null       ┆ 1        │\n",
       "│        ┆             ┆ against    ┆ Dangerous  ┆            ┆            ┆            ┆          │\n",
       "│        ┆             ┆ the person ┆ and        ┆            ┆            ┆            ┆          │\n",
       "│        ┆             ┆            ┆ negligent  ┆            ┆            ┆            ┆          │\n",
       "│        ┆             ┆            ┆ ac…        ┆            ┆            ┆            ┆          │\n",
       "│ Other  ┆ Campbells   ┆ C Drug     ┆ C30 Drug   ┆ 1          ┆ 4          ┆ null       ┆ 3        │\n",
       "│        ┆ Creek       ┆ offences   ┆ use and    ┆            ┆            ┆            ┆          │\n",
       "│        ┆             ┆            ┆ possession ┆            ┆            ┆            ┆          │\n",
       "└────────┴─────────────┴────────────┴────────────┴────────────┴────────────┴────────────┴──────────┘"
      ]
     },
     "execution_count": 36,
     "metadata": {},
     "output_type": "execute_result"
    }
   ],
   "source": [
    "df_crime"
   ]
  },
  {
   "cell_type": "code",
   "execution_count": null,
   "metadata": {},
   "outputs": [],
   "source": []
  }
 ],
 "metadata": {
  "kernelspec": {
   "display_name": "Python 3",
   "language": "python",
   "name": "python3"
  },
  "language_info": {
   "codemirror_mode": {
    "name": "ipython",
    "version": 3
   },
   "file_extension": ".py",
   "mimetype": "text/x-python",
   "name": "python",
   "nbconvert_exporter": "python",
   "pygments_lexer": "ipython3",
   "version": "3.11.12"
  }
 },
 "nbformat": 4,
 "nbformat_minor": 2
}
