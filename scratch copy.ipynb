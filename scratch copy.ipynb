{
 "cells": [
  {
   "cell_type": "code",
   "execution_count": 1,
   "metadata": {},
   "outputs": [],
   "source": [
    "import pandas as pd\n",
    "import numpy as np\n",
    "import polars as pl\n",
    "import fastexcel"
   ]
  },
  {
   "cell_type": "code",
   "execution_count": 2,
   "metadata": {},
   "outputs": [],
   "source": [
    "# Read in file\n",
    "df = pl.read_excel(\"data/Data_Tables_LGA_Criminal_Incidents_Year_Ending_March_2025.xlsx\", \n",
    "                   sheet_name=\"Table 03\",\n",
    "                #    read_options={\n",
    "                #     \"skip_rows\": 6,\n",
    "                #     }\n",
    "                   )\n",
    "# Column names change\n",
    "# df.columns = [\"GCCSA code\",\t\"GCCSA name\", \"SA4 code\", \"SA4 name\", \"SA3 code\",\n",
    "#               \"SA3 name\", \"SA2 code\", \"SA2 name\",\"2023 Pop\", \"2024 Pop\",\n",
    "#               \"2023-24 Change\", \"2023-24 Change %\", \"Natural Increase\", \"Net internal migration\",\n",
    "#               \"Net oveseas migration\",\"Area\",\"Population Density\"]"
   ]
  },
  {
   "cell_type": "code",
   "execution_count": 3,
   "metadata": {},
   "outputs": [
    {
     "data": {
      "text/html": [
       "<div><style>\n",
       ".dataframe > thead > tr,\n",
       ".dataframe > tbody > tr {\n",
       "  text-align: right;\n",
       "  white-space: pre-wrap;\n",
       "}\n",
       "</style>\n",
       "<small>shape: (5, 9)</small><table border=\"1\" class=\"dataframe\"><thead><tr><th>Year</th><th>Year ending</th><th>Local Government Area</th><th>Postcode</th><th>Suburb/Town Name</th><th>Offence Division</th><th>Offence Subdivision</th><th>Offence Subgroup</th><th>Incidents Recorded</th></tr><tr><td>i64</td><td>str</td><td>str</td><td>i64</td><td>str</td><td>str</td><td>str</td><td>str</td><td>i64</td></tr></thead><tbody><tr><td>2025</td><td>&quot;March&quot;</td><td>&quot;Alpine&quot;</td><td>3691</td><td>&quot;Coral Bank&quot;</td><td>&quot;D Public order and security of…</td><td>&quot;D10 Weapons and explosives off…</td><td>&quot;D11 Firearms offences&quot;</td><td>1</td></tr><tr><td>2025</td><td>&quot;March&quot;</td><td>&quot;Alpine&quot;</td><td>3691</td><td>&quot;Dederang&quot;</td><td>&quot;B Property and deception offen…</td><td>&quot;B10 Arson&quot;</td><td>&quot;B19 Other fire related offence…</td><td>1</td></tr><tr><td>2025</td><td>&quot;March&quot;</td><td>&quot;Alpine&quot;</td><td>3691</td><td>&quot;Dederang&quot;</td><td>&quot;B Property and deception offen…</td><td>&quot;B30 Burglary/Break and enter&quot;</td><td>&quot;B322 Non-residential non-aggra…</td><td>2</td></tr><tr><td>2025</td><td>&quot;March&quot;</td><td>&quot;Alpine&quot;</td><td>3691</td><td>&quot;Dederang&quot;</td><td>&quot;B Property and deception offen…</td><td>&quot;B40 Theft&quot;</td><td>&quot;B42 Steal from a motor vehicle&quot;</td><td>1</td></tr><tr><td>2025</td><td>&quot;March&quot;</td><td>&quot;Alpine&quot;</td><td>3691</td><td>&quot;Dederang&quot;</td><td>&quot;B Property and deception offen…</td><td>&quot;B40 Theft&quot;</td><td>&quot;B49 Other theft&quot;</td><td>1</td></tr></tbody></table></div>"
      ],
      "text/plain": [
       "shape: (5, 9)\n",
       "┌──────┬────────┬─────────────┬──────────┬───┬─────────────┬─────────────┬────────────┬────────────┐\n",
       "│ Year ┆ Year   ┆ Local       ┆ Postcode ┆ … ┆ Offence     ┆ Offence     ┆ Offence    ┆ Incidents  │\n",
       "│ ---  ┆ ending ┆ Government  ┆ ---      ┆   ┆ Division    ┆ Subdivision ┆ Subgroup   ┆ Recorded   │\n",
       "│ i64  ┆ ---    ┆ Area        ┆ i64      ┆   ┆ ---         ┆ ---         ┆ ---        ┆ ---        │\n",
       "│      ┆ str    ┆ ---         ┆          ┆   ┆ str         ┆ str         ┆ str        ┆ i64        │\n",
       "│      ┆        ┆ str         ┆          ┆   ┆             ┆             ┆            ┆            │\n",
       "╞══════╪════════╪═════════════╪══════════╪═══╪═════════════╪═════════════╪════════════╪════════════╡\n",
       "│ 2025 ┆ March  ┆ Alpine      ┆ 3691     ┆ … ┆ D Public    ┆ D10 Weapons ┆ D11        ┆ 1          │\n",
       "│      ┆        ┆             ┆          ┆   ┆ order and   ┆ and         ┆ Firearms   ┆            │\n",
       "│      ┆        ┆             ┆          ┆   ┆ security    ┆ explosives  ┆ offences   ┆            │\n",
       "│      ┆        ┆             ┆          ┆   ┆ of…         ┆ off…        ┆            ┆            │\n",
       "│ 2025 ┆ March  ┆ Alpine      ┆ 3691     ┆ … ┆ B Property  ┆ B10 Arson   ┆ B19 Other  ┆ 1          │\n",
       "│      ┆        ┆             ┆          ┆   ┆ and         ┆             ┆ fire       ┆            │\n",
       "│      ┆        ┆             ┆          ┆   ┆ deception   ┆             ┆ related    ┆            │\n",
       "│      ┆        ┆             ┆          ┆   ┆ offen…      ┆             ┆ offence…   ┆            │\n",
       "│ 2025 ┆ March  ┆ Alpine      ┆ 3691     ┆ … ┆ B Property  ┆ B30 Burglar ┆ B322 Non-r ┆ 2          │\n",
       "│      ┆        ┆             ┆          ┆   ┆ and         ┆ y/Break and ┆ esidential ┆            │\n",
       "│      ┆        ┆             ┆          ┆   ┆ deception   ┆ enter       ┆ non-aggra… ┆            │\n",
       "│      ┆        ┆             ┆          ┆   ┆ offen…      ┆             ┆            ┆            │\n",
       "│ 2025 ┆ March  ┆ Alpine      ┆ 3691     ┆ … ┆ B Property  ┆ B40 Theft   ┆ B42 Steal  ┆ 1          │\n",
       "│      ┆        ┆             ┆          ┆   ┆ and         ┆             ┆ from a     ┆            │\n",
       "│      ┆        ┆             ┆          ┆   ┆ deception   ┆             ┆ motor      ┆            │\n",
       "│      ┆        ┆             ┆          ┆   ┆ offen…      ┆             ┆ vehicle    ┆            │\n",
       "│ 2025 ┆ March  ┆ Alpine      ┆ 3691     ┆ … ┆ B Property  ┆ B40 Theft   ┆ B49 Other  ┆ 1          │\n",
       "│      ┆        ┆             ┆          ┆   ┆ and         ┆             ┆ theft      ┆            │\n",
       "│      ┆        ┆             ┆          ┆   ┆ deception   ┆             ┆            ┆            │\n",
       "│      ┆        ┆             ┆          ┆   ┆ offen…      ┆             ┆            ┆            │\n",
       "└──────┴────────┴─────────────┴──────────┴───┴─────────────┴─────────────┴────────────┴────────────┘"
      ]
     },
     "execution_count": 3,
     "metadata": {},
     "output_type": "execute_result"
    }
   ],
   "source": [
    "df.head()"
   ]
  },
  {
   "cell_type": "code",
   "execution_count": 39,
   "metadata": {},
   "outputs": [],
   "source": [
    "pl.Config.set_fmt_str_lengths(50)\n",
    "pl.Config.set_tbl_rows(30)\n",
    "df_2024=(\n",
    "    df\n",
    "        .filter(pl.col(\"Year\") == 2024)\n",
    "        # .filter(pl.col(\"Offence Subdivision\") == \"B40 Theft\")\n",
    "\n",
    "        .group_by([\"Year\",\"Local Government Area\",\"Postcode\", \"Suburb/Town Name\", \"Offence Division\", 'Offence Subdivision'])\n",
    "        .agg(\n",
    "            pl.sum(\"Incidents Recorded\")\n",
    "        )\n",
    "        .filter(pl.col(\"Local Government Area\") == 'Darebin')\n",
    "        .sort(\"Incidents Recorded\", descending=True)\n",
    "        .rename({\"Incidents Recorded\" : \"Incidents Recorded 2024\"})\n",
    "        [:,1:7] # select relevant columns\n",
    ")\n",
    "df_2024.write_csv(\"data/df_crime_2024.csv\")"
   ]
  },
  {
   "cell_type": "code",
   "execution_count": 51,
   "metadata": {},
   "outputs": [],
   "source": [
    "pl.Config.set_tbl_rows(100)\n",
    "df_2025=(\n",
    "    df\n",
    "        .filter(pl.col(\"Year\") == 2025)\n",
    "        # .filter(pl.col(\"Offence Subdivision\") == \"B40 Theft\")\n",
    "\n",
    "        .group_by([\"Year\",\"Local Government Area\",\"Postcode\", \"Suburb/Town Name\", \"Offence Division\", 'Offence Subdivision'])\n",
    "        .agg(\n",
    "            pl.sum(\"Incidents Recorded\")\n",
    "        )\n",
    "        .filter(pl.col(\"Local Government Area\") == 'Darebin')\n",
    "        .sort(\"Incidents Recorded\", descending=True)\n",
    "        .rename({\"Incidents Recorded\" : \"Incidents Recorded 2025\"})\n",
    "        [:,1:7] # select relevant columns\n",
    ")\n",
    "df_2025.write_csv(\"data/df_crime_2025.csv\")"
   ]
  },
  {
   "cell_type": "code",
   "execution_count": 64,
   "metadata": {},
   "outputs": [],
   "source": [
    "pl.Config.set_tbl_rows(20)\n",
    "df_crime=(\n",
    "    df_2024\n",
    "    .join(\n",
    "        df_2025,\n",
    "        on = ['Postcode','Suburb/Town Name','Offence Subdivision'],\n",
    "        how = 'left'\n",
    "    )\n",
    "    .select([\"Local Government Area\",\"Postcode\", \"Suburb/Town Name\", \n",
    "             \"Offence Division\", 'Offence Subdivision',\"Incidents Recorded 2024\",\n",
    "             \"Incidents Recorded 2025\"])\n",
    "    .filter(\n",
    "        pl.col(\"Local Government Area\") == 'Darebin'\n",
    "    )\n",
    "    .with_columns(\n",
    "        (\n",
    "        pl.when(pl.col(\"Incidents Recorded 2024\")>10) # do not record pcp change if sample is under 10\n",
    "        .then(\n",
    "            ((pl.col(\"Incidents Recorded 2025\")/pl.col(\"Incidents Recorded 2024\")) - 1)*100)\n",
    "        .otherwise(None)\n",
    "        )\n",
    "        .alias(\"% change\")\n",
    "    )\n",
    "    .with_columns(\n",
    "        (\n",
    "        pl.col(\"Incidents Recorded 2025\")-pl.col(\"Incidents Recorded 2024\")\n",
    "    ).alias(\"# change\")\n",
    "    )\n",
    "    .sort(\"Incidents Recorded 2024\", descending=True)\n",
    ")"
   ]
  },
  {
   "cell_type": "code",
   "execution_count": 65,
   "metadata": {},
   "outputs": [],
   "source": [
    "df_crime.write_csv(\"data/df_crime_stg.csv\")"
   ]
  },
  {
   "cell_type": "code",
   "execution_count": 67,
   "metadata": {},
   "outputs": [
    {
     "data": {
      "text/html": [
       "<div><style>\n",
       ".dataframe > thead > tr,\n",
       ".dataframe > tbody > tr {\n",
       "  text-align: right;\n",
       "  white-space: pre-wrap;\n",
       "}\n",
       "</style>\n",
       "<small>shape: (21, 9)</small><table border=\"1\" class=\"dataframe\"><thead><tr><th>Local Government Area</th><th>Postcode</th><th>Suburb/Town Name</th><th>Offence Division</th><th>Offence Subdivision</th><th>Incidents Recorded 2024</th><th>Incidents Recorded 2025</th><th>% change</th><th># change</th></tr><tr><td>str</td><td>i64</td><td>str</td><td>str</td><td>str</td><td>i64</td><td>i64</td><td>f64</td><td>i64</td></tr></thead><tbody><tr><td>&quot;Darebin&quot;</td><td>3073</td><td>&quot;Reservoir&quot;</td><td>&quot;B Property and deception offences&quot;</td><td>&quot;B40 Theft&quot;</td><td>1423</td><td>2172</td><td>52.635278</td><td>749</td></tr><tr><td>&quot;Darebin&quot;</td><td>3073</td><td>&quot;Reservoir&quot;</td><td>&quot;E Justice procedures offences&quot;</td><td>&quot;E20 Breaches of orders&quot;</td><td>447</td><td>389</td><td>-12.975391</td><td>-58</td></tr><tr><td>&quot;Darebin&quot;</td><td>3073</td><td>&quot;Reservoir&quot;</td><td>&quot;A Crimes against the person&quot;</td><td>&quot;A20 Assault and related offences&quot;</td><td>341</td><td>411</td><td>20.527859</td><td>70</td></tr><tr><td>&quot;Darebin&quot;</td><td>3073</td><td>&quot;Reservoir&quot;</td><td>&quot;B Property and deception offences&quot;</td><td>&quot;B20 Property damage&quot;</td><td>308</td><td>339</td><td>10.064935</td><td>31</td></tr><tr><td>&quot;Darebin&quot;</td><td>3073</td><td>&quot;Reservoir&quot;</td><td>&quot;B Property and deception offences&quot;</td><td>&quot;B30 Burglary/Break and enter&quot;</td><td>291</td><td>462</td><td>58.762887</td><td>171</td></tr><tr><td>&quot;Darebin&quot;</td><td>3073</td><td>&quot;Reservoir&quot;</td><td>&quot;B Property and deception offences&quot;</td><td>&quot;B50 Deception&quot;</td><td>232</td><td>199</td><td>-14.224138</td><td>-33</td></tr><tr><td>&quot;Darebin&quot;</td><td>3073</td><td>&quot;Reservoir&quot;</td><td>&quot;C Drug offences&quot;</td><td>&quot;C30 Drug use and possession&quot;</td><td>109</td><td>141</td><td>29.357798</td><td>32</td></tr><tr><td>&quot;Darebin&quot;</td><td>3073</td><td>&quot;Reservoir&quot;</td><td>&quot;D Public order and security offences&quot;</td><td>&quot;D10 Weapons and explosives offences&quot;</td><td>80</td><td>113</td><td>41.25</td><td>33</td></tr><tr><td>&quot;Darebin&quot;</td><td>3073</td><td>&quot;Reservoir&quot;</td><td>&quot;A Crimes against the person&quot;</td><td>&quot;A70 Stalking, harassment and threatening behaviour&quot;</td><td>66</td><td>81</td><td>22.727273</td><td>15</td></tr><tr><td>&quot;Darebin&quot;</td><td>3073</td><td>&quot;Reservoir&quot;</td><td>&quot;A Crimes against the person&quot;</td><td>&quot;Other crimes against the person&quot;</td><td>65</td><td>58</td><td>-10.769231</td><td>-7</td></tr><tr><td>&hellip;</td><td>&hellip;</td><td>&hellip;</td><td>&hellip;</td><td>&hellip;</td><td>&hellip;</td><td>&hellip;</td><td>&hellip;</td><td>&hellip;</td></tr><tr><td>&quot;Darebin&quot;</td><td>3073</td><td>&quot;Reservoir&quot;</td><td>&quot;A Crimes against the person&quot;</td><td>&quot;A80 Dangerous and negligent acts endangering peopl…</td><td>28</td><td>53</td><td>89.285714</td><td>25</td></tr><tr><td>&quot;Darebin&quot;</td><td>3073</td><td>&quot;Reservoir&quot;</td><td>&quot;B Property and deception offences&quot;</td><td>&quot;B10 Arson&quot;</td><td>28</td><td>34</td><td>21.428571</td><td>6</td></tr><tr><td>&quot;Darebin&quot;</td><td>3073</td><td>&quot;Reservoir&quot;</td><td>&quot;A Crimes against the person&quot;</td><td>&quot;A50 Robbery&quot;</td><td>26</td><td>27</td><td>3.846154</td><td>1</td></tr><tr><td>&quot;Darebin&quot;</td><td>3073</td><td>&quot;Reservoir&quot;</td><td>&quot;C Drug offences&quot;</td><td>&quot;C10 Drug dealing and trafficking&quot;</td><td>24</td><td>22</td><td>-8.333333</td><td>-2</td></tr><tr><td>&quot;Darebin&quot;</td><td>3073</td><td>&quot;Reservoir&quot;</td><td>&quot;D Public order and security offences&quot;</td><td>&quot;D30 Public nuisance offences&quot;</td><td>23</td><td>24</td><td>4.347826</td><td>1</td></tr><tr><td>&quot;Darebin&quot;</td><td>3073</td><td>&quot;Reservoir&quot;</td><td>&quot;D Public order and security offences&quot;</td><td>&quot;D20 Disorderly and offensive conduct&quot;</td><td>20</td><td>12</td><td>-40.0</td><td>-8</td></tr><tr><td>&quot;Darebin&quot;</td><td>3073</td><td>&quot;Reservoir&quot;</td><td>&quot;C Drug offences&quot;</td><td>&quot;C20 Cultivate or manufacture drugs&quot;</td><td>13</td><td>27</td><td>107.692308</td><td>14</td></tr><tr><td>&quot;Darebin&quot;</td><td>3073</td><td>&quot;Reservoir&quot;</td><td>&quot;F Other offences&quot;</td><td>&quot;F30 Other government regulatory offences&quot;</td><td>1</td><td>1</td><td>null</td><td>0</td></tr><tr><td>&quot;Darebin&quot;</td><td>3073</td><td>&quot;Reservoir&quot;</td><td>&quot;D Public order and security offences&quot;</td><td>&quot;D40 Public security offences&quot;</td><td>1</td><td>null</td><td>null</td><td>null</td></tr><tr><td>&quot;Darebin&quot;</td><td>3073</td><td>&quot;Reservoir&quot;</td><td>&quot;F Other offences&quot;</td><td>&quot;F10 Regulatory driving offences&quot;</td><td>1</td><td>null</td><td>null</td><td>null</td></tr></tbody></table></div>"
      ],
      "text/plain": [
       "shape: (21, 9)\n",
       "┌────────────┬──────────┬───────────┬───────────┬───┬───────────┬───────────┬───────────┬──────────┐\n",
       "│ Local      ┆ Postcode ┆ Suburb/To ┆ Offence   ┆ … ┆ Incidents ┆ Incidents ┆ % change  ┆ # change │\n",
       "│ Government ┆ ---      ┆ wn Name   ┆ Division  ┆   ┆ Recorded  ┆ Recorded  ┆ ---       ┆ ---      │\n",
       "│ Area       ┆ i64      ┆ ---       ┆ ---       ┆   ┆ 2024      ┆ 2025      ┆ f64       ┆ i64      │\n",
       "│ ---        ┆          ┆ str       ┆ str       ┆   ┆ ---       ┆ ---       ┆           ┆          │\n",
       "│ str        ┆          ┆           ┆           ┆   ┆ i64       ┆ i64       ┆           ┆          │\n",
       "╞════════════╪══════════╪═══════════╪═══════════╪═══╪═══════════╪═══════════╪═══════════╪══════════╡\n",
       "│ Darebin    ┆ 3073     ┆ Reservoir ┆ B         ┆ … ┆ 1423      ┆ 2172      ┆ 52.635278 ┆ 749      │\n",
       "│            ┆          ┆           ┆ Property  ┆   ┆           ┆           ┆           ┆          │\n",
       "│            ┆          ┆           ┆ and       ┆   ┆           ┆           ┆           ┆          │\n",
       "│            ┆          ┆           ┆ deception ┆   ┆           ┆           ┆           ┆          │\n",
       "│            ┆          ┆           ┆ offences  ┆   ┆           ┆           ┆           ┆          │\n",
       "│ Darebin    ┆ 3073     ┆ Reservoir ┆ E Justice ┆ … ┆ 447       ┆ 389       ┆ -12.97539 ┆ -58      │\n",
       "│            ┆          ┆           ┆ procedure ┆   ┆           ┆           ┆ 1         ┆          │\n",
       "│            ┆          ┆           ┆ s         ┆   ┆           ┆           ┆           ┆          │\n",
       "│            ┆          ┆           ┆ offences  ┆   ┆           ┆           ┆           ┆          │\n",
       "│ Darebin    ┆ 3073     ┆ Reservoir ┆ A Crimes  ┆ … ┆ 341       ┆ 411       ┆ 20.527859 ┆ 70       │\n",
       "│            ┆          ┆           ┆ against   ┆   ┆           ┆           ┆           ┆          │\n",
       "│            ┆          ┆           ┆ the       ┆   ┆           ┆           ┆           ┆          │\n",
       "│            ┆          ┆           ┆ person    ┆   ┆           ┆           ┆           ┆          │\n",
       "│ Darebin    ┆ 3073     ┆ Reservoir ┆ B         ┆ … ┆ 308       ┆ 339       ┆ 10.064935 ┆ 31       │\n",
       "│            ┆          ┆           ┆ Property  ┆   ┆           ┆           ┆           ┆          │\n",
       "│            ┆          ┆           ┆ and       ┆   ┆           ┆           ┆           ┆          │\n",
       "│            ┆          ┆           ┆ deception ┆   ┆           ┆           ┆           ┆          │\n",
       "│            ┆          ┆           ┆ offences  ┆   ┆           ┆           ┆           ┆          │\n",
       "│ Darebin    ┆ 3073     ┆ Reservoir ┆ B         ┆ … ┆ 291       ┆ 462       ┆ 58.762887 ┆ 171      │\n",
       "│            ┆          ┆           ┆ Property  ┆   ┆           ┆           ┆           ┆          │\n",
       "│            ┆          ┆           ┆ and       ┆   ┆           ┆           ┆           ┆          │\n",
       "│            ┆          ┆           ┆ deception ┆   ┆           ┆           ┆           ┆          │\n",
       "│            ┆          ┆           ┆ offences  ┆   ┆           ┆           ┆           ┆          │\n",
       "│ Darebin    ┆ 3073     ┆ Reservoir ┆ B         ┆ … ┆ 232       ┆ 199       ┆ -14.22413 ┆ -33      │\n",
       "│            ┆          ┆           ┆ Property  ┆   ┆           ┆           ┆ 8         ┆          │\n",
       "│            ┆          ┆           ┆ and       ┆   ┆           ┆           ┆           ┆          │\n",
       "│            ┆          ┆           ┆ deception ┆   ┆           ┆           ┆           ┆          │\n",
       "│            ┆          ┆           ┆ offences  ┆   ┆           ┆           ┆           ┆          │\n",
       "│ Darebin    ┆ 3073     ┆ Reservoir ┆ C Drug    ┆ … ┆ 109       ┆ 141       ┆ 29.357798 ┆ 32       │\n",
       "│            ┆          ┆           ┆ offences  ┆   ┆           ┆           ┆           ┆          │\n",
       "│ Darebin    ┆ 3073     ┆ Reservoir ┆ D Public  ┆ … ┆ 80        ┆ 113       ┆ 41.25     ┆ 33       │\n",
       "│            ┆          ┆           ┆ order and ┆   ┆           ┆           ┆           ┆          │\n",
       "│            ┆          ┆           ┆ security  ┆   ┆           ┆           ┆           ┆          │\n",
       "│            ┆          ┆           ┆ offences  ┆   ┆           ┆           ┆           ┆          │\n",
       "│ Darebin    ┆ 3073     ┆ Reservoir ┆ A Crimes  ┆ … ┆ 66        ┆ 81        ┆ 22.727273 ┆ 15       │\n",
       "│            ┆          ┆           ┆ against   ┆   ┆           ┆           ┆           ┆          │\n",
       "│            ┆          ┆           ┆ the       ┆   ┆           ┆           ┆           ┆          │\n",
       "│            ┆          ┆           ┆ person    ┆   ┆           ┆           ┆           ┆          │\n",
       "│ Darebin    ┆ 3073     ┆ Reservoir ┆ A Crimes  ┆ … ┆ 65        ┆ 58        ┆ -10.76923 ┆ -7       │\n",
       "│            ┆          ┆           ┆ against   ┆   ┆           ┆           ┆ 1         ┆          │\n",
       "│            ┆          ┆           ┆ the       ┆   ┆           ┆           ┆           ┆          │\n",
       "│            ┆          ┆           ┆ person    ┆   ┆           ┆           ┆           ┆          │\n",
       "│ …          ┆ …        ┆ …         ┆ …         ┆ … ┆ …         ┆ …         ┆ …         ┆ …        │\n",
       "│ Darebin    ┆ 3073     ┆ Reservoir ┆ A Crimes  ┆ … ┆ 28        ┆ 53        ┆ 89.285714 ┆ 25       │\n",
       "│            ┆          ┆           ┆ against   ┆   ┆           ┆           ┆           ┆          │\n",
       "│            ┆          ┆           ┆ the       ┆   ┆           ┆           ┆           ┆          │\n",
       "│            ┆          ┆           ┆ person    ┆   ┆           ┆           ┆           ┆          │\n",
       "│ Darebin    ┆ 3073     ┆ Reservoir ┆ B         ┆ … ┆ 28        ┆ 34        ┆ 21.428571 ┆ 6        │\n",
       "│            ┆          ┆           ┆ Property  ┆   ┆           ┆           ┆           ┆          │\n",
       "│            ┆          ┆           ┆ and       ┆   ┆           ┆           ┆           ┆          │\n",
       "│            ┆          ┆           ┆ deception ┆   ┆           ┆           ┆           ┆          │\n",
       "│            ┆          ┆           ┆ offences  ┆   ┆           ┆           ┆           ┆          │\n",
       "│ Darebin    ┆ 3073     ┆ Reservoir ┆ A Crimes  ┆ … ┆ 26        ┆ 27        ┆ 3.846154  ┆ 1        │\n",
       "│            ┆          ┆           ┆ against   ┆   ┆           ┆           ┆           ┆          │\n",
       "│            ┆          ┆           ┆ the       ┆   ┆           ┆           ┆           ┆          │\n",
       "│            ┆          ┆           ┆ person    ┆   ┆           ┆           ┆           ┆          │\n",
       "│ Darebin    ┆ 3073     ┆ Reservoir ┆ C Drug    ┆ … ┆ 24        ┆ 22        ┆ -8.333333 ┆ -2       │\n",
       "│            ┆          ┆           ┆ offences  ┆   ┆           ┆           ┆           ┆          │\n",
       "│ Darebin    ┆ 3073     ┆ Reservoir ┆ D Public  ┆ … ┆ 23        ┆ 24        ┆ 4.347826  ┆ 1        │\n",
       "│            ┆          ┆           ┆ order and ┆   ┆           ┆           ┆           ┆          │\n",
       "│            ┆          ┆           ┆ security  ┆   ┆           ┆           ┆           ┆          │\n",
       "│            ┆          ┆           ┆ offences  ┆   ┆           ┆           ┆           ┆          │\n",
       "│ Darebin    ┆ 3073     ┆ Reservoir ┆ D Public  ┆ … ┆ 20        ┆ 12        ┆ -40.0     ┆ -8       │\n",
       "│            ┆          ┆           ┆ order and ┆   ┆           ┆           ┆           ┆          │\n",
       "│            ┆          ┆           ┆ security  ┆   ┆           ┆           ┆           ┆          │\n",
       "│            ┆          ┆           ┆ offences  ┆   ┆           ┆           ┆           ┆          │\n",
       "│ Darebin    ┆ 3073     ┆ Reservoir ┆ C Drug    ┆ … ┆ 13        ┆ 27        ┆ 107.69230 ┆ 14       │\n",
       "│            ┆          ┆           ┆ offences  ┆   ┆           ┆           ┆ 8         ┆          │\n",
       "│ Darebin    ┆ 3073     ┆ Reservoir ┆ F Other   ┆ … ┆ 1         ┆ 1         ┆ null      ┆ 0        │\n",
       "│            ┆          ┆           ┆ offences  ┆   ┆           ┆           ┆           ┆          │\n",
       "│ Darebin    ┆ 3073     ┆ Reservoir ┆ D Public  ┆ … ┆ 1         ┆ null      ┆ null      ┆ null     │\n",
       "│            ┆          ┆           ┆ order and ┆   ┆           ┆           ┆           ┆          │\n",
       "│            ┆          ┆           ┆ security  ┆   ┆           ┆           ┆           ┆          │\n",
       "│            ┆          ┆           ┆ offences  ┆   ┆           ┆           ┆           ┆          │\n",
       "│ Darebin    ┆ 3073     ┆ Reservoir ┆ F Other   ┆ … ┆ 1         ┆ null      ┆ null      ┆ null     │\n",
       "│            ┆          ┆           ┆ offences  ┆   ┆           ┆           ┆           ┆          │\n",
       "└────────────┴──────────┴───────────┴───────────┴───┴───────────┴───────────┴───────────┴──────────┘"
      ]
     },
     "execution_count": 67,
     "metadata": {},
     "output_type": "execute_result"
    }
   ],
   "source": [
    "(\n",
    "    df_crime\n",
    "    .filter(\n",
    "        pl.col(\"Suburb/Town Name\") == \"Reservoir\"\n",
    "    )\n",
    ")"
   ]
  },
  {
   "cell_type": "code",
   "execution_count": null,
   "metadata": {},
   "outputs": [],
   "source": []
  }
 ],
 "metadata": {
  "kernelspec": {
   "display_name": "Python 3",
   "language": "python",
   "name": "python3"
  },
  "language_info": {
   "codemirror_mode": {
    "name": "ipython",
    "version": 3
   },
   "file_extension": ".py",
   "mimetype": "text/x-python",
   "name": "python",
   "nbconvert_exporter": "python",
   "pygments_lexer": "ipython3",
   "version": "3.11.12"
  }
 },
 "nbformat": 4,
 "nbformat_minor": 2
}
